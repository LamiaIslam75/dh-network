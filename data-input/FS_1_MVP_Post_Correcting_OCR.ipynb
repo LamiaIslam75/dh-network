{
 "cells": [
  {
   "cell_type": "markdown",
   "id": "a8e74402",
   "metadata": {},
   "source": [
    "# Regelbasierte OCR-Nachbearbeitung\n",
    "\n",
    "Let's list some typical regular errors in our corpus:\n",
    "\n",
    "* \"fie\" statt \"sie\" (add pic & result later)\n",
    "* \"vm\", \"vnd\" statt \"um\", \"und\"\n",
    "* \"<\" statt \"ch\"\n",
    "\n",
    "Some things are not errors, but rather features of historical orthograpy which we would like to normalise for further processing with modern NLP tools:\n",
    "\n",
    "* \"ſ\" statt \"s\""
   ]
  },
  {
   "cell_type": "markdown",
   "id": "f1a52f2e",
   "metadata": {},
   "source": [
    "In many cases we can fix it with some regular search-and replace patterns (e.g. take each `<` not surrounded by spaces and convert into `ch`)\n",
    "\n",
    "The standard way to express & implement such patterns on a computer would be regular expressions. You can learn more about regular expressions [here](https://www.w3schools.com/python/python_regex.asp)."
   ]
  },
  {
   "cell_type": "markdown",
   "id": "7b7187ca",
   "metadata": {},
   "source": [
    "## Implementing rules for typical errors with regular expressions"
   ]
  },
  {
   "cell_type": "code",
   "execution_count": 7,
   "id": "cc13fd62",
   "metadata": {},
   "outputs": [],
   "source": [
    "import re"
   ]
  },
  {
   "cell_type": "code",
   "execution_count": 8,
   "id": "24174e5b",
   "metadata": {},
   "outputs": [],
   "source": [
    "def post_correct_text(ocr_output):\n",
    "    cleaner_output = re.sub('(\\w)<(\\w)', '\\\\1ch\\\\2', ocr_output)\n",
    "    cleaner_output = re.sub('(\\w)5(\\w)', '\\\\1s\\\\2', cleaner_output)\n",
    "    cleaner_output = re.sub('\\bv(m|nd)\\b', 'u\\\\1', cleaner_output)\n",
    "    cleaner_output = re.sub('\\bfie\\b', 'sie', cleaner_output)\n",
    "    cleaner_output = cleaner_output.replace('ſ','s')\n",
    "    cleaner_output = cleaner_output.replace('\\n',' ')\n",
    "    return cleaner_output"
   ]
  },
  {
   "cell_type": "markdown",
   "id": "17fa9b58",
   "metadata": {},
   "source": [
    "## Applying rules to OCR results"
   ]
  },
  {
   "cell_type": "code",
   "execution_count": 9,
   "id": "74f33fb0",
   "metadata": {},
   "outputs": [],
   "source": [
    "import pytesseract\n",
    "from PIL import Image\n",
    "from aux.measure_ocr_quality import measure_ocr_quality"
   ]
  },
  {
   "cell_type": "markdown",
   "id": "fc4644ec",
   "metadata": {},
   "source": [
    "<img src=\"grippe.jpeg\" width=700>"
   ]
  },
  {
   "cell_type": "code",
   "execution_count": 10,
   "id": "f0f9456e",
   "metadata": {},
   "outputs": [],
   "source": [
    "ocr_output = pytesseract.image_to_string(Image.open('grippe.jpeg'), lang='frk')"
   ]
  },
  {
   "cell_type": "code",
   "execution_count": 11,
   "id": "50364dfd",
   "metadata": {},
   "outputs": [
    {
     "name": "stdout",
     "output_type": "stream",
     "text": [
      "Zie Grippe wüfel weiter\n",
      "\n",
      "Zunahme der f<weren Fälle in Berlin.\n",
      "\n",
      "Die Zahl der Grippefälle iſt in den leßten\n",
      "beider Tagen auch in Groß-Berlin noH\n",
      "erf>liS zeitiegen. Die Worenhäuſer und ſon-\n",
      "Haen aroßen GeſhHäfte, die Krirgs- unh die prie\n",
      "n Betriebe lagen, daß übermäig viele An«\n",
      "\n",
      "* fich hcben rex? melden müſſen,-und an<\n",
      "; “ Loft und 5ei der Straßenbahn iſt der\n",
      "ſoz der Grippelranken bedeuten) g&\n",
      "\n",
      "MeB R 2 8 1\n",
      "\n"
     ]
    }
   ],
   "source": [
    "print(ocr_output)"
   ]
  },
  {
   "cell_type": "code",
   "execution_count": 12,
   "id": "31d6e4f3",
   "metadata": {},
   "outputs": [],
   "source": [
    "ocr_output_corr = post_correct_text(ocr_output)"
   ]
  },
  {
   "cell_type": "markdown",
   "id": "aebb1b96",
   "metadata": {},
   "source": [
    "Let us see how the whole thing changed: "
   ]
  },
  {
   "cell_type": "code",
   "execution_count": 13,
   "id": "7d6c8869",
   "metadata": {},
   "outputs": [
    {
     "name": "stdout",
     "output_type": "stream",
     "text": [
      "Zie Grippe wüfel weiter  Zunahme der fchweren Fälle in Berlin.  Die Zahl der Grippefälle ist in den leßten beider Tagen auch in Groß-Berlin noH erf>liS zeitiegen. Die Worenhäuser und son- Haen aroßen GeshHäfte, die Krirgs- unh die prie n Betriebe lagen, daß übermäig viele An«  * fich hcben rex? melden müssen,-und an< ; “ Loft und 5ei der Straßenbahn ist der soz der Grippelranken bedeuten) g&  MeB R 2 8 1 \n"
     ]
    }
   ],
   "source": [
    "print(ocr_output_corr)"
   ]
  },
  {
   "cell_type": "markdown",
   "id": "76411084",
   "metadata": {},
   "source": [
    "## Measuring the improvement"
   ]
  },
  {
   "cell_type": "markdown",
   "id": "52e9bc5b",
   "metadata": {},
   "source": [
    "Let us see hot that affected the OCR quality metrics"
   ]
  },
  {
   "cell_type": "code",
   "execution_count": 14,
   "id": "02141139",
   "metadata": {},
   "outputs": [],
   "source": [
    "ground_truth = 'Die Grippe wütet weiter. Zunahme der schweren Fälle in Berlin. Die Zahl der Grippefälle ist in den letzten Tagen auch in Groß-Berlin noch erheblich gestiegen. Die Warenhäuser und sonstigen großen Geschäfte, die Kriegs- und die privaten Betriebe klagen, daß übermäßig viele Angestellte sich haben krank melden müssen und auch bei der Post und bei der Straßenbahn ist der Prozentsatz der Grippekranken deutlich gestiegen.'"
   ]
  },
  {
   "cell_type": "code",
   "execution_count": 15,
   "id": "cffb4d38",
   "metadata": {},
   "outputs": [],
   "source": [
    "precision, recall, f_score = measure_ocr_quality(ocr_output_corr, ground_truth)"
   ]
  },
  {
   "cell_type": "code",
   "execution_count": 16,
   "id": "c82ec01e",
   "metadata": {},
   "outputs": [
    {
     "name": "stdout",
     "output_type": "stream",
     "text": [
      "Precision: 0.8091\n",
      "Recall: 0.8309\n",
      "F1-score: 0.8198\n"
     ]
    }
   ],
   "source": [
    "print(f'Precision: {round(precision, 4)}\\nRecall: {round(recall, 4)}\\nF1-score: {round(f_score, 4)}')"
   ]
  },
  {
   "cell_type": "markdown",
   "id": "5bd8ed46",
   "metadata": {},
   "source": [
    "So, our F-measure increased a bit, good!"
   ]
  },
  {
   "cell_type": "markdown",
   "id": "093b0d2d",
   "metadata": {},
   "source": [
    "## Running on the whole corpus"
   ]
  },
  {
   "cell_type": "code",
   "execution_count": null,
   "id": "4eed5008",
   "metadata": {},
   "outputs": [],
   "source": [
    "from path"
   ]
  },
  {
   "cell_type": "code",
   "execution_count": 17,
   "id": "b8897a27",
   "metadata": {},
   "outputs": [
    {
     "ename": "NameError",
     "evalue": "name 'Path' is not defined",
     "output_type": "error",
     "traceback": [
      "\u001b[0;31m---------------------------------------------------------------------------\u001b[0m",
      "\u001b[0;31mNameError\u001b[0m                                 Traceback (most recent call last)",
      "Input \u001b[0;32mIn [17]\u001b[0m, in \u001b[0;36m<cell line: 1>\u001b[0;34m()\u001b[0m\n\u001b[0;32m----> 1\u001b[0m pathtxt \u001b[38;5;241m=\u001b[39m \u001b[43mPath\u001b[49m (\u001b[38;5;124m'\u001b[39m\u001b[38;5;124m../../txttest\u001b[39m\u001b[38;5;124m'\u001b[39m)\u001b[38;5;66;03m#('../data/txt')\u001b[39;00m\n\u001b[1;32m      3\u001b[0m \u001b[38;5;28;01mfor\u001b[39;00m file \u001b[38;5;129;01min\u001b[39;00m tqdm(pathtxt\u001b[38;5;241m.\u001b[39miterdir()):\n\u001b[1;32m      4\u001b[0m     \u001b[38;5;28;01mif\u001b[39;00m file\u001b[38;5;241m.\u001b[39msuffix \u001b[38;5;241m==\u001b[39m \u001b[38;5;124m'\u001b[39m\u001b[38;5;124m.txt\u001b[39m\u001b[38;5;124m'\u001b[39m:\n",
      "\u001b[0;31mNameError\u001b[0m: name 'Path' is not defined"
     ]
    }
   ],
   "source": [
    "pathtxt = Path ('../../txttest')#('../data/txt')\n",
    "\n",
    "for file in tqdm(pathtxt.iterdir()):\n",
    "    if file.suffix == '.txt':\n",
    "        text = file.read_text()\n",
    "        corrected = post_correct_text(text)\n",
    "        file.write_text(corrected)"
   ]
  },
  {
   "cell_type": "code",
   "execution_count": null,
   "id": "f2c22291",
   "metadata": {},
   "outputs": [],
   "source": []
  }
 ],
 "metadata": {
  "kernelspec": {
   "display_name": "Python 3 (ipykernel)",
   "language": "python",
   "name": "python3"
  },
  "language_info": {
   "codemirror_mode": {
    "name": "ipython",
    "version": 3
   },
   "file_extension": ".py",
   "mimetype": "text/x-python",
   "name": "python",
   "nbconvert_exporter": "python",
   "pygments_lexer": "ipython3",
   "version": "3.9.13"
  }
 },
 "nbformat": 4,
 "nbformat_minor": 5
}
