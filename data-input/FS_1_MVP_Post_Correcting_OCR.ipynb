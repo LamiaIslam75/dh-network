{
 "cells": [
  {
   "cell_type": "markdown",
   "id": "a8e74402",
   "metadata": {},
   "source": [
    "# OCR postprocessing\n",
    "\n",
    "The last stage of the OCR process is post-processing the result. Some of it is done internally by the OCR engine. Other improvement can be applied separately afterwards. \n",
    "\n",
    "## Rule-based OCR postprocessing\n",
    "\n",
    "After doing OCR, one can often notice regular errors , e.g. letter `с` turning to `<` or letter `l` becoming a `!`. "
   ]
  },
  {
   "cell_type": "code",
   "execution_count": 2,
   "id": "74f33fb0",
   "metadata": {},
   "outputs": [],
   "source": [
    "import pytesseract\n",
    "from PIL import Image\n",
    "from aux.measure_ocr_quality import measure_ocr_quality"
   ]
  },
  {
   "cell_type": "markdown",
   "id": "fc4644ec",
   "metadata": {},
   "source": [
    "<img src=\"grippe.jpeg\" width=700>"
   ]
  },
  {
   "cell_type": "code",
   "execution_count": 3,
   "id": "f0f9456e",
   "metadata": {},
   "outputs": [],
   "source": [
    "ocr_output = pytesseract.image_to_string(Image.open('grippe.jpeg'), lang='frk')"
   ]
  },
  {
   "cell_type": "code",
   "execution_count": 6,
   "id": "50364dfd",
   "metadata": {},
   "outputs": [
    {
     "name": "stdout",
     "output_type": "stream",
     "text": [
      "Zie Grippe wüfel weiter\n",
      "\n",
      "Zunahme der f<weren Fälle in Berlin.\n",
      "\n",
      "Die Zahl der Grippefälle iſt in den leßten\n",
      "beider Tagen auch in Groß-Berlin noH\n",
      "erf>liS zeitiegen. Die Worenhäuſer und ſon-\n",
      "Haen aroßen GeſhHäfte, die Krirgs- unh die prie\n",
      "n Betriebe lagen, daß übermäig viele An«\n",
      "\n",
      "* fich hcben rex? melden müſſen,-und an<\n",
      "; “ Loft und 5ei der Straßenbahn iſt der\n",
      "ſoz der Grippelranken bedeuten) g&\n",
      "\n",
      "MeB R 2 8 1\n",
      "\n"
     ]
    }
   ],
   "source": [
    "print(ocr_output)"
   ]
  },
  {
   "cell_type": "markdown",
   "id": "f1a52f2e",
   "metadata": {},
   "source": [
    "In many cases we can fix it with some regular search-and replace patterns (e.g. take each `<` not surrounded by spaces and convert into `c`)\n",
    "\n",
    "The standard way to express & implement such patterns on a computer would be regular expressions. "
   ]
  },
  {
   "cell_type": "code",
   "execution_count": 5,
   "id": "cc13fd62",
   "metadata": {},
   "outputs": [],
   "source": [
    "import re"
   ]
  },
  {
   "cell_type": "markdown",
   "id": "87536e80",
   "metadata": {},
   "source": [
    "For example, here is a regular expression that does the aforementioned context-aware transformation of `<` to `c`."
   ]
  },
  {
   "cell_type": "code",
   "execution_count": null,
   "id": "31d6e4f3",
   "metadata": {},
   "outputs": [],
   "source": [
    "ocr_output_corr = re.sub('(\\w)<(\\w)', '\\\\1c\\\\2', ocr_output)"
   ]
  },
  {
   "cell_type": "markdown",
   "id": "aebb1b96",
   "metadata": {},
   "source": [
    "Let us see how the whole thing changed: "
   ]
  },
  {
   "cell_type": "code",
   "execution_count": null,
   "id": "7d6c8869",
   "metadata": {},
   "outputs": [],
   "source": [
    "ocr_output_corr"
   ]
  },
  {
   "cell_type": "markdown",
   "id": "89e61377",
   "metadata": {},
   "source": [
    "So, the '<' is gone now in most cases (but not in all, since we have an additional condition in place). You can learn more about regular expressions [here](https://www.w3schools.com/python/python_regex.asp)."
   ]
  },
  {
   "cell_type": "markdown",
   "id": "52e9bc5b",
   "metadata": {},
   "source": [
    "Let us see hot that affected the OCR quality"
   ]
  },
  {
   "cell_type": "code",
   "execution_count": null,
   "id": "02141139",
   "metadata": {},
   "outputs": [],
   "source": [
    "ground_truth = 'Die Lage auf dem Kohlenmarkte gibt zu den schlimmsten Befürchtungen Anlass. Für Sachsen fehlten im November 30.000 Wagen zu je 10 Tonnen und für Dezember wird mit noch größeren Ausfällen gerechnet werden. Es ist mit einem völligen Stillstand der Industrie innerhalb vierzehn Tagen zu rechnen, wenn nicht eine erhebliche Steigerung der Belastungen der Kohlenbergwerke oder ihrer Zahl gelingt. Weiter steht eine wesentliche Erhöhung der Kohlenpreise bevor.'"
   ]
  },
  {
   "cell_type": "code",
   "execution_count": null,
   "id": "cffb4d38",
   "metadata": {},
   "outputs": [],
   "source": [
    "precision, recall, f_score = measure_ocr_quality(ocr_output_corr, ground_truth)"
   ]
  },
  {
   "cell_type": "code",
   "execution_count": null,
   "id": "c82ec01e",
   "metadata": {},
   "outputs": [],
   "source": [
    "print(f'Precision: {round(precision, 4)}\\nRecall: {round(recall, 4)}\\nF1-score: {round(f_score, 4)}')"
   ]
  },
  {
   "cell_type": "markdown",
   "id": "5bd8ed46",
   "metadata": {},
   "source": [
    "So, our F-measure increased a bit, good!"
   ]
  },
  {
   "cell_type": "markdown",
   "id": "8b4b8f55",
   "metadata": {},
   "source": [
    "## OCR postprocessing with large language models (LLMs)\n",
    "\n",
    "* Here we intend to use Llama3, which is quite good for OCR postcorrection of the german text"
   ]
  },
  {
   "cell_type": "markdown",
   "id": "e3f888d4",
   "metadata": {},
   "source": [
    "Now let's use all the data for processing and analysis (next notebook)"
   ]
  }
 ],
 "metadata": {
  "kernelspec": {
   "display_name": "Python 3 (ipykernel)",
   "language": "python",
   "name": "python3"
  },
  "language_info": {
   "codemirror_mode": {
    "name": "ipython",
    "version": 3
   },
   "file_extension": ".py",
   "mimetype": "text/x-python",
   "name": "python",
   "nbconvert_exporter": "python",
   "pygments_lexer": "ipython3",
   "version": "3.9.13"
  }
 },
 "nbformat": 4,
 "nbformat_minor": 5
}
