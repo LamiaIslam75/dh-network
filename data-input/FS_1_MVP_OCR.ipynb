{
 "cells": [
  {
   "cell_type": "markdown",
   "id": "1d59fe07",
   "metadata": {},
   "source": [
    "# Corpus Preprocessing — Performing OCR with PyTesseract \n",
    "\n",
    "In this notebook, we will run pyTesseract to produce machine readable text from:\n",
    "* a JPEG image\n",
    "* a multi-paged PDF\n",
    "* a corpus of multi-page PDF-s\n",
    "\n",
    "## Importing tools"
   ]
  },
  {
   "cell_type": "code",
   "execution_count": null,
   "id": "8a636708",
   "metadata": {},
   "outputs": [],
   "source": [
    "import pytesseract\n",
    "from PIL import Image"
   ]
  },
  {
   "cell_type": "markdown",
   "id": "9c8fc1e9",
   "metadata": {},
   "source": [
    "## Processing one image"
   ]
  },
  {
   "cell_type": "markdown",
   "id": "7d785e48",
   "metadata": {},
   "source": [
    "This is how we can **perform OCR on the image** of a newspaper article ('*Die Grippe wütet weiter*') that you have already seen above:"
   ]
  },
  {
   "cell_type": "code",
   "execution_count": null,
   "id": "e2d9a421",
   "metadata": {},
   "outputs": [],
   "source": [
    "ocr_output = pytesseract.image_to_string(Image.open('grippe.png'), lang='frk') \n",
    "print(ocr_output)"
   ]
  },
  {
   "cell_type": "markdown",
   "id": "feb3b9f8",
   "metadata": {},
   "source": [
    "## Processing a (multi-pages) PDF"
   ]
  },
  {
   "cell_type": "markdown",
   "id": "afb92e6f",
   "metadata": {},
   "source": [
    "With a bit more Python code, we can also use pytesseract to OCR entire **PDF files with many pages**:"
   ]
  },
  {
   "cell_type": "code",
   "execution_count": null,
   "id": "74682bdb",
   "metadata": {},
   "outputs": [],
   "source": [
    "from pathlib import Path\n",
    "from pdf2image import convert_from_path\n",
    "from tqdm import tqdm"
   ]
  },
  {
   "cell_type": "code",
   "execution_count": null,
   "id": "9259bc78",
   "metadata": {},
   "outputs": [],
   "source": [
    "sample_pdf_path = Path('../data/pdf/SNP27112366-19181224-0-0-0-0.pdf')\n",
    "recognized_pages = []\n",
    "converted_pdf = tqdm(convert_from_path(sample_pdf_path, use_cropbox=True))\n",
    "for image in converted_pdf:\n",
    "    recognized = pytesseract.image_to_string(image, \n",
    "                                             lang='frk') \n",
    "    #print(recognized)\n",
    "    recognized_pages.append(recognized)"
   ]
  },
  {
   "cell_type": "markdown",
   "id": "11a791ca",
   "metadata": {},
   "source": [
    "Let's look at the first page:"
   ]
  },
  {
   "cell_type": "code",
   "execution_count": null,
   "id": "28b79b0c",
   "metadata": {},
   "outputs": [],
   "source": [
    "print(recognized_pages[0])"
   ]
  },
  {
   "cell_type": "markdown",
   "id": "0ecd1035",
   "metadata": {},
   "source": [
    "Last page:"
   ]
  },
  {
   "cell_type": "code",
   "execution_count": null,
   "id": "a33cb97c",
   "metadata": {},
   "outputs": [],
   "source": [
    "print(recognized_pages[-1])"
   ]
  },
  {
   "cell_type": "markdown",
   "id": "66a1436f",
   "metadata": {},
   "source": [
    "None of these results look very good (mostly due to scan quality and general challenges of working with old newspapers). In the next parts we will learn how to \n",
    "* a) measure the OCR quality\n",
    "* b) improve the quality at the OCR postcorrection stage"
   ]
  },
  {
   "cell_type": "markdown",
   "id": "51c60c71",
   "metadata": {},
   "source": [
    "## (Advanced) Processing the whole corpus of PDF-s with the same OCR engine "
   ]
  },
  {
   "cell_type": "markdown",
   "id": "ad8d5051",
   "metadata": {},
   "source": [
    "The code below will process all the files in folder `'../data/pdf'` which have '.pdf' as extension, and then put the results into the `'../data/txt'` (the filenames will be the same but with '.txt' extension instead of '.pdf'). **WARNING**: For a large (>5) number of PDF-s this will take a long time. "
   ]
  },
  {
   "cell_type": "code",
   "execution_count": null,
   "id": "91568303",
   "metadata": {},
   "outputs": [],
   "source": [
    "pathpdf = Path('../data/pdf')\n",
    "pathtxt = Path('../data/txt')"
   ]
  },
  {
   "cell_type": "code",
   "execution_count": null,
   "id": "a5a69f12",
   "metadata": {},
   "outputs": [],
   "source": [
    "for filename in tqdm(pathpdf.iterdir()):\n",
    "    if filename.suffix == '.pdf':\n",
    "        converted_pdf = convert_from_path(filename, use_cropbox=True)\n",
    "        output_path = pathtxt / filename.stem \n",
    "        output_path = output_path.with_suffix('.txt')\n",
    "        with output_path.open('w') as output_txt:\n",
    "            for image in converted_pdf:\n",
    "                recognized = pytesseract.image_to_string(image, \n",
    "                                                         lang='frk') \n",
    "                output_txt.write(recognized)"
   ]
  }
 ],
 "metadata": {
  "kernelspec": {
   "display_name": "Python 3 (ipykernel)",
   "language": "python",
   "name": "python3"
  },
  "language_info": {
   "codemirror_mode": {
    "name": "ipython",
    "version": 3
   },
   "file_extension": ".py",
   "mimetype": "text/x-python",
   "name": "python",
   "nbconvert_exporter": "python",
   "pygments_lexer": "ipython3",
   "version": "3.9.13"
  }
 },
 "nbformat": 4,
 "nbformat_minor": 5
}
