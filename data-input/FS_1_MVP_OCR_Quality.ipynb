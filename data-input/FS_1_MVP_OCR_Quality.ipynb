{
 "cells": [
  {
   "cell_type": "markdown",
   "id": "bf9efa76",
   "metadata": {},
   "source": [
    "## Messung der OCR-Qualität in Python\n",
    "\n",
    "In this notebook we evaluate OCR quality. We'll use the same sample article for evaluation:\n",
    "\n",
    "\n",
    "![grippe.png](grippe.png)"
   ]
  },
  {
   "cell_type": "markdown",
   "id": "c6813ff3",
   "metadata": {},
   "source": [
    "### Imports and OCR"
   ]
  },
  {
   "cell_type": "markdown",
   "id": "b73d817e",
   "metadata": {},
   "source": [
    "Let us OCR it first:"
   ]
  },
  {
   "cell_type": "code",
   "execution_count": 2,
   "id": "8a636708",
   "metadata": {},
   "outputs": [],
   "source": [
    "import pytesseract\n",
    "from PIL import Image"
   ]
  },
  {
   "cell_type": "code",
   "execution_count": 7,
   "id": "84c9fd39",
   "metadata": {},
   "outputs": [],
   "source": [
    "ocr_output = pytesseract.image_to_string(Image.open('grippe.jpeg'), lang='frk')  # using German fraktur OCR model"
   ]
  },
  {
   "cell_type": "code",
   "execution_count": 8,
   "id": "c5ca0449",
   "metadata": {},
   "outputs": [
    {
     "name": "stdout",
     "output_type": "stream",
     "text": [
      "Zie Grippe wüfel weiter\n",
      "\n",
      "Zunahme der f<weren Fälle in Berlin.\n",
      "\n",
      "Die Zahl der Grippefälle iſt in den leßten\n",
      "beider Tagen auch in Groß-Berlin noH\n",
      "erf>liS zeitiegen. Die Worenhäuſer und ſon-\n",
      "Haen aroßen GeſhHäfte, die Krirgs- unh die prie\n",
      "n Betriebe lagen, daß übermäig viele An«\n",
      "\n",
      "* fich hcben rex? melden müſſen,-und an<\n",
      "; “ Loft und 5ei der Straßenbahn iſt der\n",
      "ſoz der Grippelranken bedeuten) g&\n",
      "\n",
      "MeB R 2 8 1\n",
      "\n"
     ]
    }
   ],
   "source": [
    "print(ocr_output)"
   ]
  },
  {
   "cell_type": "markdown",
   "id": "1328b4ad",
   "metadata": {},
   "source": [
    "### Manually create  the 'ground truth' to evaluate against"
   ]
  },
  {
   "cell_type": "code",
   "execution_count": 9,
   "id": "55a68c90",
   "metadata": {},
   "outputs": [
    {
     "name": "stdout",
     "output_type": "stream",
     "text": [
      "Please insert corrected string: Die Grippe wütet weiter. Zunahme der schweren Fälle in Berlin. Die Zahl der Grippefälle ist in den letzten Tagen auch in Groß-Berlin noch erheblich gestiegen. Die Warenhäuser und sonstigen großen Geschäfte, die Kriegs- und die privaten Betriebe klagen, daß übermäßig viele Angestellte sich haben krank melden müssen und auch bei der Post und bei der Straßenbahn ist der Prozentsatz der Grippekranken deutlich gestiegen.\n"
     ]
    }
   ],
   "source": [
    "ground_truth = input('Please insert corrected string: ')"
   ]
  },
  {
   "cell_type": "code",
   "execution_count": 10,
   "id": "1c35c218",
   "metadata": {},
   "outputs": [
    {
     "name": "stdout",
     "output_type": "stream",
     "text": [
      "Die Grippe wütet weiter. Zunahme der schweren Fälle in Berlin. Die Zahl der Grippefälle ist in den letzten Tagen auch in Groß-Berlin noch erheblich gestiegen. Die Warenhäuser und sonstigen großen Geschäfte, die Kriegs- und die privaten Betriebe klagen, daß übermäßig viele Angestellte sich haben krank melden müssen und auch bei der Post und bei der Straßenbahn ist der Prozentsatz der Grippekranken deutlich gestiegen.\n"
     ]
    }
   ],
   "source": [
    "print(ground_truth)"
   ]
  },
  {
   "cell_type": "markdown",
   "id": "8ba10b32",
   "metadata": {},
   "source": [
    "### Calculate precision, recall, and F1-measure"
   ]
  },
  {
   "cell_type": "code",
   "execution_count": 11,
   "id": "84d2dc4a",
   "metadata": {},
   "outputs": [],
   "source": [
    "from aux.measure_ocr_quality import measure_ocr_quality"
   ]
  },
  {
   "cell_type": "code",
   "execution_count": 12,
   "id": "03132c10",
   "metadata": {},
   "outputs": [],
   "source": [
    "precision, recall, f_score = measure_ocr_quality(ocr_output, ground_truth)"
   ]
  },
  {
   "cell_type": "code",
   "execution_count": 13,
   "id": "46857ba9",
   "metadata": {},
   "outputs": [
    {
     "name": "stdout",
     "output_type": "stream",
     "text": [
      "Precision: 0.7757\n",
      "Recall: 0.7985\n",
      "F1-score: 0.7869\n"
     ]
    }
   ],
   "source": [
    "print(f'Precision: {round(precision, 4)}\\nRecall: {round(recall, 4)}\\nF1-score: {round(f_score, 4)}')"
   ]
  }
 ],
 "metadata": {
  "kernelspec": {
   "display_name": "Python 3 (ipykernel)",
   "language": "python",
   "name": "python3"
  },
  "language_info": {
   "codemirror_mode": {
    "name": "ipython",
    "version": 3
   },
   "file_extension": ".py",
   "mimetype": "text/x-python",
   "name": "python",
   "nbconvert_exporter": "python",
   "pygments_lexer": "ipython3",
   "version": "3.9.13"
  }
 },
 "nbformat": 4,
 "nbformat_minor": 5
}
