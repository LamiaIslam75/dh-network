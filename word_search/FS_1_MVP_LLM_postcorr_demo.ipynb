{
 "cells": [
  {
   "cell_type": "markdown",
   "id": "c540bb05",
   "metadata": {},
   "source": [
    "# Outlook: LLM postcorrection effect on the search for Spanish Flu\n",
    "\n",
    "Now that we have done our analysis, let us get back to the question of LLM postcorrection. What would happen, if we post-corrected our corpus with LLMs? We tested it on one file, running the whole OCR-ed file through GPT-4 API. Here are the two segments of the same page that demonstrate the difference before (left) and after (right) the LLM postcorrection:\n",
    "\n",
    "![llm_vs_original](../book_images/llm_vs_original.jpg)\n",
    "\n",
    "Let us now see if this affected the count of Grippe-related words in that file:\n",
    "\n",
    "## Defining the list of words (again)"
   ]
  },
  {
   "cell_type": "code",
   "execution_count": 7,
   "id": "1e73ba44",
   "metadata": {},
   "outputs": [],
   "source": [
    "grippe_list = ['Influenza',\n",
    "'Grippe',\n",
    "'Grippeepidemie',\n",
    "'Grippewelle',\n",
    "'Grippekranke',              \n",
    "'Grippepandemie',\n",
    "'Lungenentzündung',\n",
    "'Krankheitswelle',\n",
    "'Seuchenzug',\n",
    "'Krankheitsausbruch',\n",
    "'Fieberanfall',\n",
    "'Schüttelfrost',\n",
    "'Atemnot',\n",
    "'Körpererschöpfung',\n",
    "'Genesungszeit',\n",
    "'Ansteckungsgefahr',\n",
    "'Seuchenschutz',\n",
    "'Desinfektionsmittel',\n",
    "'Schutzmaske',\n",
    "'Krankenstation',\n",
    "'Isolationsstation',\n",
    "'Sanitätsdienst',\n",
    "'Krankheitsverlauf',\n",
    "'Todesopfer',\n",
    "'Krankheitssymptom',\n",
    "'Erkrankungsfall',\n",
    "'Lungeninfektion']"
   ]
  },
  {
   "cell_type": "markdown",
   "id": "dca436d4",
   "metadata": {},
   "source": [
    "## Reading the annotations of the two files (original and post-corrected)"
   ]
  },
  {
   "cell_type": "code",
   "execution_count": 4,
   "id": "8f4e3031",
   "metadata": {},
   "outputs": [],
   "source": [
    "import pandas as pd"
   ]
  },
  {
   "cell_type": "code",
   "execution_count": 6,
   "id": "c919433d",
   "metadata": {},
   "outputs": [],
   "source": [
    "original = pd.read_csv('../data/csv/SNP2719372X-19181012-0-0-0-0.csv')\n",
    "post_llm = pd.read_csv('../data/csv/SNP2719372X-19181012-0-0-0-0_llm_postcorr.csv')"
   ]
  },
  {
   "cell_type": "markdown",
   "id": "e85fb360",
   "metadata": {},
   "source": [
    "## Count the words of the list for each file"
   ]
  },
  {
   "cell_type": "code",
   "execution_count": 8,
   "id": "7b14a3ad",
   "metadata": {},
   "outputs": [],
   "source": [
    "def count_words(annotation, wordlist):\n",
    "    result = annotation.query(f'Lemma.isin({wordlist})')\n",
    "    return result.shape[0]"
   ]
  },
  {
   "cell_type": "code",
   "execution_count": 9,
   "id": "1e711dc4",
   "metadata": {},
   "outputs": [
    {
     "data": {
      "text/plain": [
       "13"
      ]
     },
     "execution_count": 9,
     "metadata": {},
     "output_type": "execute_result"
    }
   ],
   "source": [
    "count_words(original, grippe_list)"
   ]
  },
  {
   "cell_type": "code",
   "execution_count": 10,
   "id": "bc624ec7",
   "metadata": {},
   "outputs": [
    {
     "data": {
      "text/plain": [
       "16"
      ]
     },
     "execution_count": 10,
     "metadata": {},
     "output_type": "execute_result"
    }
   ],
   "source": [
    "count_words(post_llm, grippe_list)"
   ]
  }
 ],
 "metadata": {
  "kernelspec": {
   "display_name": "Python 3 (ipykernel)",
   "language": "python",
   "name": "python3"
  },
  "language_info": {
   "codemirror_mode": {
    "name": "ipython",
    "version": 3
   },
   "file_extension": ".py",
   "mimetype": "text/x-python",
   "name": "python",
   "nbconvert_exporter": "python",
   "pygments_lexer": "ipython3",
   "version": "3.9.13"
  }
 },
 "nbformat": 4,
 "nbformat_minor": 5
}
