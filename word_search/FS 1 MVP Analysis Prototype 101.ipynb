{
 "cells": [
  {
   "cell_type": "markdown",
   "id": "0a0d0e29",
   "metadata": {},
   "source": [
    "# Analysis 101: search lemma and plot frequency\n",
    "\n",
    "Now we'll take the CONLL data and plot the frequencies of some lemma"
   ]
  },
  {
   "cell_type": "code",
   "execution_count": null,
   "id": "14dc18f5",
   "metadata": {},
   "outputs": [],
   "source": [
    "import pandas as pd"
   ]
  },
  {
   "cell_type": "code",
   "execution_count": null,
   "id": "5e1e86bf",
   "metadata": {},
   "outputs": [],
   "source": [
    "import re"
   ]
  },
  {
   "cell_type": "code",
   "execution_count": null,
   "id": "5a8dd24b",
   "metadata": {},
   "outputs": [],
   "source": [
    "import os"
   ]
  },
  {
   "cell_type": "code",
   "execution_count": null,
   "id": "4417616d",
   "metadata": {},
   "outputs": [],
   "source": [
    "conllfiles = (r\"../data/conll\")"
   ]
  },
  {
   "cell_type": "code",
   "execution_count": null,
   "id": "645fa9f7",
   "metadata": {},
   "outputs": [],
   "source": [
    "corpus_annotations = {}\n",
    "for filename in os.listdir(conllfiles):\n",
    "    if '.conll' in filename:\n",
    "        path = os.path.join(conllfiles, filename)  \n",
    "        data = pd.read_csv(path) \n",
    "        corpus_annotations[filename]  =  data"
   ]
  },
  {
   "cell_type": "code",
   "execution_count": null,
   "id": "d824df6a",
   "metadata": {},
   "outputs": [],
   "source": [
    "class WordSearchEngine():\n",
    "    \n",
    "    def __init__(self, corpus_annotated):\n",
    "        self.search_data = self.prepare_index_dataframe_for_search(corpus_annotated)\n",
    "    \n",
    "    def prepare_index_dataframe_for_search(self, corpus_annotated):\n",
    "        for filename, annotated_text in corpus_annotated.items():\n",
    "            year, month, day = self.get_date_fname(filename)\n",
    "            annotated_text['month'] = month\n",
    "        self.full_df = pd.concat(corpus_annotated.values())\n",
    "        print(f'Searching in a corpus of {self.full_df.shape[0]} word occurences')\n",
    "        \n",
    "    def get_date_fname(self, filename):\n",
    "        date_pattern = re.search(r'(19\\d\\d)(\\d\\d)(\\d\\d)-0-0-0-0', filename)\n",
    "        year = date_pattern.group(1)\n",
    "        month = f'{year}-{date_pattern.group(2)}'\n",
    "        day =  f'{month}-{date_pattern.group(3)}'\n",
    "        return year, month, day    \n",
    "        \n",
    "    def search_and_plot(self):\n",
    "        search_term = input('Insert a word to search: ')\n",
    "        result = self.full_df.query(f'Lemma==\"{search_term}\"')\n",
    "        result.groupby('month').count().Lemma.plot();\n",
    "        "
   ]
  },
  {
   "cell_type": "code",
   "execution_count": null,
   "id": "4792eee9",
   "metadata": {},
   "outputs": [],
   "source": [
    "engine = WordSearchEngine(corpus_annotations)"
   ]
  },
  {
   "cell_type": "code",
   "execution_count": null,
   "id": "c35a24d6",
   "metadata": {},
   "outputs": [],
   "source": [
    "engine.search_and_plot()"
   ]
  },
  {
   "cell_type": "markdown",
   "id": "e9a2a08b",
   "metadata": {},
   "source": [
    "## More analysis to come below"
   ]
  },
  {
   "cell_type": "code",
   "execution_count": null,
   "id": "171ec837",
   "metadata": {},
   "outputs": [],
   "source": []
  }
 ],
 "metadata": {
  "kernelspec": {
   "display_name": "Python 3 (ipykernel)",
   "language": "python",
   "name": "python3"
  },
  "language_info": {
   "codemirror_mode": {
    "name": "ipython",
    "version": 3
   },
   "file_extension": ".py",
   "mimetype": "text/x-python",
   "name": "python",
   "nbconvert_exporter": "python",
   "pygments_lexer": "ipython3",
   "version": "3.9.13"
  }
 },
 "nbformat": 4,
 "nbformat_minor": 5
}
