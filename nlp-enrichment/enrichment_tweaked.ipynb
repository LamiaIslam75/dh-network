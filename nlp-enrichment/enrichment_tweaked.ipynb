{
 "cells": [
  {
   "cell_type": "markdown",
   "id": "1aaf3791",
   "metadata": {},
   "source": [
    "# Enrichment of the Corpus\n",
    "\n",
    "* now that we have homogenized, we prepare the corpus i.e. we pre-process more for in-depth analyses \n",
    "* for this we:\n",
    "  * tokenize\n",
    "  * lemmatize\n",
    "  * pos-tag\n",
    "* This can be done with multiple **libraries** (*what concepts are known, do we need the notion of this, I'd say yes!) \n",
    "  * spacy\n",
    "  * stanford-core-nlp\n",
    "  * nltk\n",
    "* Pre-Processing is language specific"
   ]
  },
  {
   "cell_type": "markdown",
   "id": "be81998d",
   "metadata": {},
   "source": [
    "## 1. Read in the txt data"
   ]
  },
  {
   "cell_type": "code",
   "execution_count": 61,
   "id": "edf1d9f3",
   "metadata": {},
   "outputs": [],
   "source": [
    "from pathlib import Path"
   ]
  },
  {
   "cell_type": "markdown",
   "id": "5acf822f",
   "metadata": {},
   "source": [
    "#### 1.1 Set path to corpus directory \n",
    "* Replace ./data/txt/ with path to the data"
   ]
  },
  {
   "cell_type": "code",
   "execution_count": 62,
   "id": "44fa6bd5",
   "metadata": {},
   "outputs": [],
   "source": [
    "# or point to standard here?\n",
    "corpus_dir = Path(r\"../data/txt/\")"
   ]
  },
  {
   "cell_type": "markdown",
   "id": "2fd98045",
   "metadata": {},
   "source": [
    "#### 1.2 Read in the files from the directory"
   ]
  },
  {
   "cell_type": "code",
   "execution_count": 63,
   "id": "e041af15",
   "metadata": {},
   "outputs": [],
   "source": [
    "from collections import OrderedDict"
   ]
  },
  {
   "cell_type": "code",
   "execution_count": 64,
   "id": "f3572c70",
   "metadata": {},
   "outputs": [],
   "source": [
    "def read_corpus_linewise(corpus_dir: Path) -> OrderedDict[str,str]:\n",
    "    corpus = OrderedDict()\n",
    "    for filepath in corpus_dir.iterdir():\n",
    "        if filepath.is_file():\n",
    "            text = filepath.read_text()\n",
    "            #text = text.replace(\"\\n\", \" \")\n",
    "            corpus[filepath.name] = text\n",
    "    return corpus"
   ]
  },
  {
   "cell_type": "code",
   "execution_count": 65,
   "id": "172c1612",
   "metadata": {},
   "outputs": [],
   "source": [
    "corpus = read_corpus_linewise(corpus_dir)"
   ]
  },
  {
   "cell_type": "markdown",
   "id": "d4e804de",
   "metadata": {},
   "source": [
    "**Prüfen**: Wie viele Dateien wurden eingelesen?"
   ]
  },
  {
   "cell_type": "code",
   "execution_count": 66,
   "id": "4ac06177",
   "metadata": {},
   "outputs": [
    {
     "name": "stdout",
     "output_type": "stream",
     "text": [
      "103\n"
     ]
    }
   ],
   "source": [
    "print(len(corpus))"
   ]
  },
  {
   "cell_type": "markdown",
   "id": "867c240c",
   "metadata": {},
   "source": [
    "#### 1.3 Read in metadata "
   ]
  },
  {
   "cell_type": "code",
   "execution_count": 67,
   "id": "90551a73",
   "metadata": {},
   "outputs": [],
   "source": [
    "import pandas as pd"
   ]
  },
  {
   "cell_type": "code",
   "execution_count": 68,
   "id": "f6b91a52",
   "metadata": {},
   "outputs": [],
   "source": [
    "metadata_dir = Path(r\"../data/metadata/\")"
   ]
  },
  {
   "cell_type": "code",
   "execution_count": 69,
   "id": "8e76f723",
   "metadata": {},
   "outputs": [],
   "source": [
    "metadata_filepath =  metadata_dir / Path(\"MVP-Test-Korpus_Metadata.csv\")"
   ]
  },
  {
   "cell_type": "code",
   "execution_count": 70,
   "id": "b9f0f0d9",
   "metadata": {},
   "outputs": [],
   "source": [
    "metadata_df = pd.read_csv(metadata_filepath, sep=\";\")"
   ]
  },
  {
   "cell_type": "markdown",
   "id": "db2e5b6f",
   "metadata": {},
   "source": [
    "**Prüfen**: Wie sehen unsere Metadaten aus?"
   ]
  },
  {
   "cell_type": "code",
   "execution_count": 71,
   "id": "7e569f6c",
   "metadata": {},
   "outputs": [
    {
     "data": {
      "text/html": [
       "<div>\n",
       "<style scoped>\n",
       "    .dataframe tbody tr th:only-of-type {\n",
       "        vertical-align: middle;\n",
       "    }\n",
       "\n",
       "    .dataframe tbody tr th {\n",
       "        vertical-align: top;\n",
       "    }\n",
       "\n",
       "    .dataframe thead th {\n",
       "        text-align: right;\n",
       "    }\n",
       "</style>\n",
       "<table border=\"1\" class=\"dataframe\">\n",
       "  <thead>\n",
       "    <tr style=\"text-align: right;\">\n",
       "      <th></th>\n",
       "      <th>Newspaper</th>\n",
       "      <th>Identifier</th>\n",
       "      <th>Date</th>\n",
       "      <th>Link</th>\n",
       "    </tr>\n",
       "  </thead>\n",
       "  <tbody>\n",
       "    <tr>\n",
       "      <th>0</th>\n",
       "      <td>Vossische Zeitung</td>\n",
       "      <td>SNP27112366</td>\n",
       "      <td>19180101</td>\n",
       "      <td>https://content.staatsbibliothek-berlin.de/zef...</td>\n",
       "    </tr>\n",
       "    <tr>\n",
       "      <th>1</th>\n",
       "      <td>Vossische Zeitung</td>\n",
       "      <td>SNP27112366</td>\n",
       "      <td>19180108</td>\n",
       "      <td>https://content.staatsbibliothek-berlin.de/zef...</td>\n",
       "    </tr>\n",
       "    <tr>\n",
       "      <th>2</th>\n",
       "      <td>Vossische Zeitung</td>\n",
       "      <td>SNP27112366</td>\n",
       "      <td>19180115</td>\n",
       "      <td>https://content.staatsbibliothek-berlin.de/zef...</td>\n",
       "    </tr>\n",
       "    <tr>\n",
       "      <th>3</th>\n",
       "      <td>Vossische Zeitung</td>\n",
       "      <td>SNP27112366</td>\n",
       "      <td>19180122</td>\n",
       "      <td>https://content.staatsbibliothek-berlin.de/zef...</td>\n",
       "    </tr>\n",
       "    <tr>\n",
       "      <th>4</th>\n",
       "      <td>Vossische Zeitung</td>\n",
       "      <td>SNP27112366</td>\n",
       "      <td>19180129</td>\n",
       "      <td>https://content.staatsbibliothek-berlin.de/zef...</td>\n",
       "    </tr>\n",
       "  </tbody>\n",
       "</table>\n",
       "</div>"
      ],
      "text/plain": [
       "           Newspaper   Identifier      Date  \\\n",
       "0  Vossische Zeitung  SNP27112366  19180101   \n",
       "1  Vossische Zeitung  SNP27112366  19180108   \n",
       "2  Vossische Zeitung  SNP27112366  19180115   \n",
       "3  Vossische Zeitung  SNP27112366  19180122   \n",
       "4  Vossische Zeitung  SNP27112366  19180129   \n",
       "\n",
       "                                                Link  \n",
       "0  https://content.staatsbibliothek-berlin.de/zef...  \n",
       "1  https://content.staatsbibliothek-berlin.de/zef...  \n",
       "2  https://content.staatsbibliothek-berlin.de/zef...  \n",
       "3  https://content.staatsbibliothek-berlin.de/zef...  \n",
       "4  https://content.staatsbibliothek-berlin.de/zef...  "
      ]
     },
     "execution_count": 71,
     "metadata": {},
     "output_type": "execute_result"
    }
   ],
   "source": [
    "metadata_df.head()"
   ]
  },
  {
   "cell_type": "markdown",
   "id": "5f6d22bb",
   "metadata": {},
   "source": [
    "## 2.Worthäufigkeit mit lazy tokenization"
   ]
  },
  {
   "cell_type": "code",
   "execution_count": 72,
   "id": "d07258cc",
   "metadata": {},
   "outputs": [],
   "source": [
    "all_texts = \" \".join(corpus.values())"
   ]
  },
  {
   "cell_type": "code",
   "execution_count": 73,
   "id": "6984c038",
   "metadata": {},
   "outputs": [],
   "source": [
    "words = all_texts.split(\" \")"
   ]
  },
  {
   "cell_type": "markdown",
   "id": "694298bd-8e8f-4570-b053-f3e7b42f77d8",
   "metadata": {},
   "source": [
    "**Prüfen**: Wie sieht die Wortliste aus?"
   ]
  },
  {
   "cell_type": "code",
   "execution_count": 74,
   "id": "6b37fa42-ae7a-4bca-8b01-36cd1444e31a",
   "metadata": {},
   "outputs": [
    {
     "data": {
      "text/plain": [
       "['Scarpe.',\n",
       " 'Veiverſeits',\n",
       " 'von\\n;me',\n",
       " 'und',\n",
       " 'nördlich',\n",
       " 'der',\n",
       " 'Somme',\n",
       " 'hef-\\ntige',\n",
       " 'Kämpfe.',\n",
       " 'Die']"
      ]
     },
     "execution_count": 74,
     "metadata": {},
     "output_type": "execute_result"
    }
   ],
   "source": [
    "words[50:60]"
   ]
  },
  {
   "cell_type": "markdown",
   "id": "a2d542d5",
   "metadata": {},
   "source": [
    "Wie viele Wörter gibt es insgesamt?"
   ]
  },
  {
   "cell_type": "code",
   "execution_count": 75,
   "id": "f3ee91df",
   "metadata": {},
   "outputs": [
    {
     "data": {
      "text/plain": [
       "1783703"
      ]
     },
     "execution_count": 75,
     "metadata": {},
     "output_type": "execute_result"
    }
   ],
   "source": [
    "len(words)"
   ]
  },
  {
   "cell_type": "markdown",
   "id": "3b971409",
   "metadata": {},
   "source": [
    "Welche Wörter kommen wie oft vor? "
   ]
  },
  {
   "cell_type": "code",
   "execution_count": 76,
   "id": "5b3a4530",
   "metadata": {},
   "outputs": [],
   "source": [
    "from collections import Counter"
   ]
  },
  {
   "cell_type": "code",
   "execution_count": 77,
   "id": "7dc3cbbc",
   "metadata": {},
   "outputs": [],
   "source": [
    "word_frequencies = Counter(words)"
   ]
  },
  {
   "cell_type": "code",
   "execution_count": 80,
   "id": "4234dfea",
   "metadata": {},
   "outputs": [
    {
     "name": "stdout",
     "output_type": "stream",
     "text": [
      "Geben Sie ein Wort ein, für welches die Häufigkeit angezeigt wird: Grippe\n"
     ]
    }
   ],
   "source": [
    "chosen_word = input(\"Geben Sie ein Wort ein, für welches die Häufigkeit angezeigt wird: \")"
   ]
  },
  {
   "cell_type": "code",
   "execution_count": 81,
   "id": "8a590df8",
   "metadata": {},
   "outputs": [
    {
     "data": {
      "text/plain": [
       "38"
      ]
     },
     "execution_count": 81,
     "metadata": {},
     "output_type": "execute_result"
    }
   ],
   "source": [
    "word_frequencies[chosen_word]"
   ]
  },
  {
   "cell_type": "markdown",
   "id": "7b158ecb",
   "metadata": {},
   "source": [
    "## 3. Load NLP Library\n",
    "* Do we need to install first? Probably not – do we want to show how we would install?\n",
    "\n",
    "Overview of spacy model available [here](https://spacy.io/models) \\\n",
    "\n",
    "Load language specific model (selection):\n",
    "* German: 'de_core_news_sm'\n",
    "* English: 'en_core_news_sm'"
   ]
  },
  {
   "cell_type": "markdown",
   "id": "a93e2719",
   "metadata": {},
   "source": [
    "### 3.1 Load library"
   ]
  },
  {
   "cell_type": "code",
   "execution_count": 37,
   "id": "33b7d428",
   "metadata": {},
   "outputs": [],
   "source": [
    "import spacy"
   ]
  },
  {
   "cell_type": "code",
   "execution_count": 38,
   "id": "11e71e97",
   "metadata": {},
   "outputs": [
    {
     "name": "stdout",
     "output_type": "stream",
     "text": [
      "Collecting de-core-news-sm==3.5.0\n",
      "  Using cached https://github.com/explosion/spacy-models/releases/download/de_core_news_sm-3.5.0/de_core_news_sm-3.5.0-py3-none-any.whl (14.6 MB)\n",
      "Requirement already satisfied: spacy<3.6.0,>=3.5.0 in /opt/homebrew/Caskroom/miniforge/base/lib/python3.9/site-packages (from de-core-news-sm==3.5.0) (3.5.3)\n",
      "Requirement already satisfied: spacy-legacy<3.1.0,>=3.0.11 in /opt/homebrew/Caskroom/miniforge/base/lib/python3.9/site-packages (from spacy<3.6.0,>=3.5.0->de-core-news-sm==3.5.0) (3.0.12)\n",
      "Requirement already satisfied: spacy-loggers<2.0.0,>=1.0.0 in /opt/homebrew/Caskroom/miniforge/base/lib/python3.9/site-packages (from spacy<3.6.0,>=3.5.0->de-core-news-sm==3.5.0) (1.0.4)\n",
      "Requirement already satisfied: murmurhash<1.1.0,>=0.28.0 in /opt/homebrew/Caskroom/miniforge/base/lib/python3.9/site-packages (from spacy<3.6.0,>=3.5.0->de-core-news-sm==3.5.0) (1.0.9)\n",
      "Requirement already satisfied: cymem<2.1.0,>=2.0.2 in /opt/homebrew/Caskroom/miniforge/base/lib/python3.9/site-packages (from spacy<3.6.0,>=3.5.0->de-core-news-sm==3.5.0) (2.0.7)\n",
      "Requirement already satisfied: preshed<3.1.0,>=3.0.2 in /opt/homebrew/Caskroom/miniforge/base/lib/python3.9/site-packages (from spacy<3.6.0,>=3.5.0->de-core-news-sm==3.5.0) (3.0.8)\n",
      "Requirement already satisfied: thinc<8.2.0,>=8.1.8 in /opt/homebrew/Caskroom/miniforge/base/lib/python3.9/site-packages (from spacy<3.6.0,>=3.5.0->de-core-news-sm==3.5.0) (8.1.10)\n",
      "Requirement already satisfied: wasabi<1.2.0,>=0.9.1 in /opt/homebrew/Caskroom/miniforge/base/lib/python3.9/site-packages (from spacy<3.6.0,>=3.5.0->de-core-news-sm==3.5.0) (1.1.2)\n",
      "Requirement already satisfied: srsly<3.0.0,>=2.4.3 in /opt/homebrew/Caskroom/miniforge/base/lib/python3.9/site-packages (from spacy<3.6.0,>=3.5.0->de-core-news-sm==3.5.0) (2.4.6)\n",
      "Requirement already satisfied: catalogue<2.1.0,>=2.0.6 in /opt/homebrew/Caskroom/miniforge/base/lib/python3.9/site-packages (from spacy<3.6.0,>=3.5.0->de-core-news-sm==3.5.0) (2.0.8)\n",
      "Requirement already satisfied: typer<0.8.0,>=0.3.0 in /opt/homebrew/Caskroom/miniforge/base/lib/python3.9/site-packages (from spacy<3.6.0,>=3.5.0->de-core-news-sm==3.5.0) (0.3.2)\n",
      "Requirement already satisfied: pathy>=0.10.0 in /opt/homebrew/Caskroom/miniforge/base/lib/python3.9/site-packages (from spacy<3.6.0,>=3.5.0->de-core-news-sm==3.5.0) (0.10.1)\n",
      "Requirement already satisfied: smart-open<7.0.0,>=5.2.1 in /opt/homebrew/Caskroom/miniforge/base/lib/python3.9/site-packages (from spacy<3.6.0,>=3.5.0->de-core-news-sm==3.5.0) (6.3.0)\n",
      "Requirement already satisfied: tqdm<5.0.0,>=4.38.0 in /opt/homebrew/Caskroom/miniforge/base/lib/python3.9/site-packages (from spacy<3.6.0,>=3.5.0->de-core-news-sm==3.5.0) (4.65.0)\n",
      "Requirement already satisfied: numpy>=1.15.0 in /opt/homebrew/Caskroom/miniforge/base/lib/python3.9/site-packages (from spacy<3.6.0,>=3.5.0->de-core-news-sm==3.5.0) (1.23.5)\n",
      "Requirement already satisfied: requests<3.0.0,>=2.13.0 in /opt/homebrew/Caskroom/miniforge/base/lib/python3.9/site-packages (from spacy<3.6.0,>=3.5.0->de-core-news-sm==3.5.0) (2.31.0)\n",
      "Requirement already satisfied: pydantic!=1.8,!=1.8.1,<1.11.0,>=1.7.4 in /opt/homebrew/Caskroom/miniforge/base/lib/python3.9/site-packages (from spacy<3.6.0,>=3.5.0->de-core-news-sm==3.5.0) (1.10.9)\n",
      "Requirement already satisfied: jinja2 in /opt/homebrew/Caskroom/miniforge/base/lib/python3.9/site-packages (from spacy<3.6.0,>=3.5.0->de-core-news-sm==3.5.0) (3.1.2)\n",
      "Requirement already satisfied: setuptools in /opt/homebrew/Caskroom/miniforge/base/lib/python3.9/site-packages (from spacy<3.6.0,>=3.5.0->de-core-news-sm==3.5.0) (65.6.3)\n",
      "Requirement already satisfied: packaging>=20.0 in /opt/homebrew/Caskroom/miniforge/base/lib/python3.9/site-packages (from spacy<3.6.0,>=3.5.0->de-core-news-sm==3.5.0) (23.1)\n",
      "Requirement already satisfied: langcodes<4.0.0,>=3.2.0 in /opt/homebrew/Caskroom/miniforge/base/lib/python3.9/site-packages (from spacy<3.6.0,>=3.5.0->de-core-news-sm==3.5.0) (3.3.0)\n",
      "Requirement already satisfied: typing-extensions>=4.2.0 in /opt/homebrew/Caskroom/miniforge/base/lib/python3.9/site-packages (from pydantic!=1.8,!=1.8.1,<1.11.0,>=1.7.4->spacy<3.6.0,>=3.5.0->de-core-news-sm==3.5.0) (4.6.3)\n",
      "Requirement already satisfied: charset-normalizer<4,>=2 in /opt/homebrew/Caskroom/miniforge/base/lib/python3.9/site-packages (from requests<3.0.0,>=2.13.0->spacy<3.6.0,>=3.5.0->de-core-news-sm==3.5.0) (3.1.0)\n",
      "Requirement already satisfied: idna<4,>=2.5 in /opt/homebrew/Caskroom/miniforge/base/lib/python3.9/site-packages (from requests<3.0.0,>=2.13.0->spacy<3.6.0,>=3.5.0->de-core-news-sm==3.5.0) (3.4)\n",
      "Requirement already satisfied: urllib3<3,>=1.21.1 in /opt/homebrew/Caskroom/miniforge/base/lib/python3.9/site-packages (from requests<3.0.0,>=2.13.0->spacy<3.6.0,>=3.5.0->de-core-news-sm==3.5.0) (2.0.3)\n",
      "Requirement already satisfied: certifi>=2017.4.17 in /opt/homebrew/Caskroom/miniforge/base/lib/python3.9/site-packages (from requests<3.0.0,>=2.13.0->spacy<3.6.0,>=3.5.0->de-core-news-sm==3.5.0) (2023.5.7)\n",
      "Requirement already satisfied: blis<0.8.0,>=0.7.8 in /opt/homebrew/Caskroom/miniforge/base/lib/python3.9/site-packages (from thinc<8.2.0,>=8.1.8->spacy<3.6.0,>=3.5.0->de-core-news-sm==3.5.0) (0.7.9)\n",
      "Requirement already satisfied: confection<1.0.0,>=0.0.1 in /opt/homebrew/Caskroom/miniforge/base/lib/python3.9/site-packages (from thinc<8.2.0,>=8.1.8->spacy<3.6.0,>=3.5.0->de-core-news-sm==3.5.0) (0.0.4)\n",
      "Requirement already satisfied: click<7.2.0,>=7.1.1 in /opt/homebrew/Caskroom/miniforge/base/lib/python3.9/site-packages (from typer<0.8.0,>=0.3.0->spacy<3.6.0,>=3.5.0->de-core-news-sm==3.5.0) (7.1.2)\n",
      "Requirement already satisfied: MarkupSafe>=2.0 in /opt/homebrew/Caskroom/miniforge/base/lib/python3.9/site-packages (from jinja2->spacy<3.6.0,>=3.5.0->de-core-news-sm==3.5.0) (2.1.3)\n",
      "\n",
      "\u001b[1m[\u001b[0m\u001b[34;49mnotice\u001b[0m\u001b[1;39;49m]\u001b[0m\u001b[39;49m A new release of pip is available: \u001b[0m\u001b[31;49m23.2\u001b[0m\u001b[39;49m -> \u001b[0m\u001b[32;49m24.0\u001b[0m\n",
      "\u001b[1m[\u001b[0m\u001b[34;49mnotice\u001b[0m\u001b[1;39;49m]\u001b[0m\u001b[39;49m To update, run: \u001b[0m\u001b[32;49mpip install --upgrade pip\u001b[0m\n",
      "\u001b[38;5;2m✔ Download and installation successful\u001b[0m\n",
      "You can now load the package via spacy.load('de_core_news_sm')\n"
     ]
    }
   ],
   "source": [
    "! python -m spacy download de_core_news_sm"
   ]
  },
  {
   "cell_type": "code",
   "execution_count": 39,
   "id": "c52bea2b",
   "metadata": {},
   "outputs": [],
   "source": [
    "nlp = spacy.load('de_core_news_sm')"
   ]
  },
  {
   "cell_type": "markdown",
   "id": "672fb872",
   "metadata": {},
   "source": [
    "### 3.2 Setting up the pipeline"
   ]
  },
  {
   "cell_type": "code",
   "execution_count": 40,
   "id": "6fb49918",
   "metadata": {},
   "outputs": [],
   "source": [
    "disable_components = ['ner', 'morphologizer', 'attribute_ruler']"
   ]
  },
  {
   "cell_type": "markdown",
   "id": "13bec70c",
   "metadata": {},
   "source": [
    "### 3.3 Annotate texts and extract token, lemma, pos"
   ]
  },
  {
   "cell_type": "code",
   "execution_count": 86,
   "id": "5b2e3fc7-0b60-4c1f-96d2-a77da7ae388c",
   "metadata": {},
   "outputs": [],
   "source": [
    "from time import time"
   ]
  },
  {
   "cell_type": "code",
   "execution_count": 87,
   "id": "8011e3f7",
   "metadata": {},
   "outputs": [],
   "source": [
    "took_per_text = []\n",
    "\n",
    "corpus_annotated = {}\n",
    "filename_list = list(corpus.keys())\n",
    "current = time()\n",
    "for i, doc in enumerate(nlp.pipe(corpus.values(), disable=disable_components)):\n",
    "    before = current\n",
    "    current = time()\n",
    "    took_per_text.append(current - before)\n",
    "    annotated_text = {}\n",
    "    annotated_text['Token'] = [tok.text for tok in doc]\n",
    "    annotated_text['Lemma'] = [tok.lemma_ for tok in doc]\n",
    "    annotated_text['PoS'] = [tok.tag_ for tok in doc]\n",
    "    \n",
    "    sentences = []\n",
    "    sentence_idx = -1\n",
    "    for token in doc:\n",
    "        if token.is_sent_start:\n",
    "            sentence_idx += 1\n",
    "        sentences.append(sentence_idx)\n",
    "    annotated_text['Sentence_idx'] = sentences\n",
    "    \n",
    "    corpus_annotated[filename_list[i]] = pd.DataFrame(annotated_text)"
   ]
  },
  {
   "cell_type": "markdown",
   "id": "8383b4cf",
   "metadata": {},
   "source": [
    "#### Wie lange hat das Annotieren gedauert?"
   ]
  },
  {
   "cell_type": "code",
   "execution_count": 88,
   "id": "780cbeac-5e2b-451d-8d76-355043fd8073",
   "metadata": {},
   "outputs": [],
   "source": [
    "import numpy as np"
   ]
  },
  {
   "cell_type": "markdown",
   "id": "4d10ac03-b41c-45e2-ab90-7b7ceda3936c",
   "metadata": {},
   "source": [
    "Durschnittlich pro Text in Sekunden:"
   ]
  },
  {
   "cell_type": "code",
   "execution_count": 89,
   "id": "aca4b148-6cec-4bb2-a440-41622466367e",
   "metadata": {},
   "outputs": [
    {
     "data": {
      "text/plain": [
       "2.42644638922608"
      ]
     },
     "execution_count": 89,
     "metadata": {},
     "output_type": "execute_result"
    }
   ],
   "source": [
    "np.mean(took_per_text)"
   ]
  },
  {
   "cell_type": "markdown",
   "id": "33a2de3d-e802-4c54-be6f-264cc08e8798",
   "metadata": {},
   "source": [
    "Alle Texte zusammen in Sekunden:"
   ]
  },
  {
   "cell_type": "code",
   "execution_count": 90,
   "id": "c2b4f043-0057-42af-912f-491d290b64b6",
   "metadata": {},
   "outputs": [
    {
     "data": {
      "text/plain": [
       "249.92397809028625"
      ]
     },
     "execution_count": 90,
     "metadata": {},
     "output_type": "execute_result"
    }
   ],
   "source": [
    "np.sum(took_per_text)"
   ]
  },
  {
   "cell_type": "markdown",
   "id": "f6b7e007-85f4-4831-83ec-cff9a78e6360",
   "metadata": {},
   "source": [
    "**Prüfen**: Länge des annotierten Korpus gleich Länge des Originalkorpus?"
   ]
  },
  {
   "cell_type": "code",
   "execution_count": 91,
   "id": "384c72bd",
   "metadata": {},
   "outputs": [
    {
     "data": {
      "text/plain": [
       "103"
      ]
     },
     "execution_count": 91,
     "metadata": {},
     "output_type": "execute_result"
    }
   ],
   "source": [
    "len(corpus_annotated)"
   ]
  },
  {
   "cell_type": "markdown",
   "id": "2465ba08",
   "metadata": {},
   "source": [
    "**Prüfen**: Wie sieht die Annotation aus?"
   ]
  },
  {
   "cell_type": "code",
   "execution_count": 92,
   "id": "03ae155a",
   "metadata": {},
   "outputs": [
    {
     "data": {
      "text/html": [
       "<div>\n",
       "<style scoped>\n",
       "    .dataframe tbody tr th:only-of-type {\n",
       "        vertical-align: middle;\n",
       "    }\n",
       "\n",
       "    .dataframe tbody tr th {\n",
       "        vertical-align: top;\n",
       "    }\n",
       "\n",
       "    .dataframe thead th {\n",
       "        text-align: right;\n",
       "    }\n",
       "</style>\n",
       "<table border=\"1\" class=\"dataframe\">\n",
       "  <thead>\n",
       "    <tr style=\"text-align: right;\">\n",
       "      <th></th>\n",
       "      <th>Token</th>\n",
       "      <th>Lemma</th>\n",
       "      <th>PoS</th>\n",
       "      <th>Sentence_idx</th>\n",
       "    </tr>\n",
       "  </thead>\n",
       "  <tbody>\n",
       "    <tr>\n",
       "      <th>0</th>\n",
       "      <td>Kennmmmmnlie</td>\n",
       "      <td>Kennmmmmnlie</td>\n",
       "      <td>NN</td>\n",
       "      <td>0</td>\n",
       "    </tr>\n",
       "    <tr>\n",
       "      <th>1</th>\n",
       "      <td>“</td>\n",
       "      <td>--</td>\n",
       "      <td>$(</td>\n",
       "      <td>0</td>\n",
       "    </tr>\n",
       "    <tr>\n",
       "      <th>2</th>\n",
       "      <td>HET</td>\n",
       "      <td>HET</td>\n",
       "      <td>NE</td>\n",
       "      <td>1</td>\n",
       "    </tr>\n",
       "    <tr>\n",
       "      <th>3</th>\n",
       "      <td>PU</td>\n",
       "      <td>PU</td>\n",
       "      <td>NE</td>\n",
       "      <td>2</td>\n",
       "    </tr>\n",
       "    <tr>\n",
       "      <th>4</th>\n",
       "      <td>88,4</td>\n",
       "      <td>88,4</td>\n",
       "      <td>NE</td>\n",
       "      <td>3</td>\n",
       "    </tr>\n",
       "  </tbody>\n",
       "</table>\n",
       "</div>"
      ],
      "text/plain": [
       "          Token         Lemma PoS  Sentence_idx\n",
       "0  Kennmmmmnlie  Kennmmmmnlie  NN             0\n",
       "1             “            --  $(             0\n",
       "2           HET           HET  NE             1\n",
       "3            PU            PU  NE             2\n",
       "4          88,4          88,4  NE             3"
      ]
     },
     "execution_count": 92,
     "metadata": {},
     "output_type": "execute_result"
    }
   ],
   "source": [
    "corpus_annotated[filename_list[0]].head()"
   ]
  },
  {
   "cell_type": "markdown",
   "id": "bc8160c5",
   "metadata": {},
   "source": [
    "### 3.4 Worthäufigkeit mit echter Tokenization   "
   ]
  },
  {
   "cell_type": "code",
   "execution_count": 93,
   "id": "6c6a224b",
   "metadata": {},
   "outputs": [],
   "source": [
    "all_words_tokenized = [word for text in corpus_annotated.values() for word in text.Token]"
   ]
  },
  {
   "cell_type": "code",
   "execution_count": 94,
   "id": "3783a3bf",
   "metadata": {},
   "outputs": [
    {
     "data": {
      "text/plain": [
       "3008370"
      ]
     },
     "execution_count": 94,
     "metadata": {},
     "output_type": "execute_result"
    }
   ],
   "source": [
    "len(all_words_tokenized)"
   ]
  },
  {
   "cell_type": "code",
   "execution_count": 95,
   "id": "3f560071",
   "metadata": {},
   "outputs": [],
   "source": [
    "words_tokenized_frequencies = Counter(all_words_tokenized)"
   ]
  },
  {
   "cell_type": "code",
   "execution_count": 96,
   "id": "65c8b2de",
   "metadata": {},
   "outputs": [
    {
     "data": {
      "text/plain": [
       "53"
      ]
     },
     "execution_count": 96,
     "metadata": {},
     "output_type": "execute_result"
    }
   ],
   "source": [
    "words_tokenized_frequencies[chosen_word]"
   ]
  },
  {
   "cell_type": "markdown",
   "id": "ca9a3fb1",
   "metadata": {},
   "source": [
    "## 4. Metadaten ausweiten"
   ]
  },
  {
   "cell_type": "markdown",
   "id": "25d4b5c7",
   "metadata": {},
   "source": [
    "### 4.1 Metadaten sammeln\n",
    "* Anzahl Lemmata\n",
    "* Anzahl unique Lemmata\n",
    "* Anzahl Sätze\n",
    "* Durschnittliche Satzlänge "
   ]
  },
  {
   "cell_type": "code",
   "execution_count": 97,
   "id": "c1f0e7c5",
   "metadata": {},
   "outputs": [],
   "source": [
    "collected_metadata_extension = []\n",
    "for filename, annotated_text in corpus_annotated.items():\n",
    "    metadata_extension = {}\n",
    "    metadata_extension['Filename'] = filename\n",
    "    metadata_extension['Lemma_Count'] = len(annotated_text) - 1\n",
    "    metadata_extension['Lemma_Count_Unique'] = len(set(annotated_text.Lemma))\n",
    "    metadata_extension['Sentence_Count'] = annotated_text.Sentence_idx.iloc[-1]\n",
    "    metadata_extension['Sentence_Length_Avg'] = annotated_text.groupby('Sentence_idx').Lemma.count().mean()\n",
    "    collected_metadata_extension.append(metadata_extension)"
   ]
  },
  {
   "cell_type": "code",
   "execution_count": 98,
   "id": "7cf046f1",
   "metadata": {},
   "outputs": [],
   "source": [
    "metadata_to_extend = pd.DataFrame(collected_metadata_extension)"
   ]
  },
  {
   "cell_type": "markdown",
   "id": "46c45e81",
   "metadata": {},
   "source": [
    "### 4.2 Metadaten hinzufügen"
   ]
  },
  {
   "cell_type": "code",
   "execution_count": 99,
   "id": "97d99dcc",
   "metadata": {},
   "outputs": [
    {
     "data": {
      "text/html": [
       "<div>\n",
       "<style scoped>\n",
       "    .dataframe tbody tr th:only-of-type {\n",
       "        vertical-align: middle;\n",
       "    }\n",
       "\n",
       "    .dataframe tbody tr th {\n",
       "        vertical-align: top;\n",
       "    }\n",
       "\n",
       "    .dataframe thead th {\n",
       "        text-align: right;\n",
       "    }\n",
       "</style>\n",
       "<table border=\"1\" class=\"dataframe\">\n",
       "  <thead>\n",
       "    <tr style=\"text-align: right;\">\n",
       "      <th></th>\n",
       "      <th>Newspaper</th>\n",
       "      <th>Identifier</th>\n",
       "      <th>Date</th>\n",
       "      <th>Link</th>\n",
       "    </tr>\n",
       "  </thead>\n",
       "  <tbody>\n",
       "    <tr>\n",
       "      <th>0</th>\n",
       "      <td>Vossische Zeitung</td>\n",
       "      <td>SNP27112366</td>\n",
       "      <td>19180101</td>\n",
       "      <td>https://content.staatsbibliothek-berlin.de/zef...</td>\n",
       "    </tr>\n",
       "    <tr>\n",
       "      <th>1</th>\n",
       "      <td>Vossische Zeitung</td>\n",
       "      <td>SNP27112366</td>\n",
       "      <td>19180108</td>\n",
       "      <td>https://content.staatsbibliothek-berlin.de/zef...</td>\n",
       "    </tr>\n",
       "    <tr>\n",
       "      <th>2</th>\n",
       "      <td>Vossische Zeitung</td>\n",
       "      <td>SNP27112366</td>\n",
       "      <td>19180115</td>\n",
       "      <td>https://content.staatsbibliothek-berlin.de/zef...</td>\n",
       "    </tr>\n",
       "    <tr>\n",
       "      <th>3</th>\n",
       "      <td>Vossische Zeitung</td>\n",
       "      <td>SNP27112366</td>\n",
       "      <td>19180122</td>\n",
       "      <td>https://content.staatsbibliothek-berlin.de/zef...</td>\n",
       "    </tr>\n",
       "    <tr>\n",
       "      <th>4</th>\n",
       "      <td>Vossische Zeitung</td>\n",
       "      <td>SNP27112366</td>\n",
       "      <td>19180129</td>\n",
       "      <td>https://content.staatsbibliothek-berlin.de/zef...</td>\n",
       "    </tr>\n",
       "    <tr>\n",
       "      <th>...</th>\n",
       "      <td>...</td>\n",
       "      <td>...</td>\n",
       "      <td>...</td>\n",
       "      <td>...</td>\n",
       "    </tr>\n",
       "    <tr>\n",
       "      <th>99</th>\n",
       "      <td>Berliner Morgenpost</td>\n",
       "      <td>SNP2719372X</td>\n",
       "      <td>19181203</td>\n",
       "      <td>https://content.staatsbibliothek-berlin.de/zef...</td>\n",
       "    </tr>\n",
       "    <tr>\n",
       "      <th>100</th>\n",
       "      <td>Berliner Morgenpost</td>\n",
       "      <td>SNP2719372X</td>\n",
       "      <td>19181210</td>\n",
       "      <td>https://content.staatsbibliothek-berlin.de/zef...</td>\n",
       "    </tr>\n",
       "    <tr>\n",
       "      <th>101</th>\n",
       "      <td>Berliner Morgenpost</td>\n",
       "      <td>SNP2719372X</td>\n",
       "      <td>19181217</td>\n",
       "      <td>https://content.staatsbibliothek-berlin.de/zef...</td>\n",
       "    </tr>\n",
       "    <tr>\n",
       "      <th>102</th>\n",
       "      <td>Berliner Morgenpost</td>\n",
       "      <td>SNP2719372X</td>\n",
       "      <td>19181224</td>\n",
       "      <td>https://content.staatsbibliothek-berlin.de/zef...</td>\n",
       "    </tr>\n",
       "    <tr>\n",
       "      <th>103</th>\n",
       "      <td>Berliner Morgenpost</td>\n",
       "      <td>SNP2719372X</td>\n",
       "      <td>19181232</td>\n",
       "      <td>https://content.staatsbibliothek-berlin.de/zef...</td>\n",
       "    </tr>\n",
       "  </tbody>\n",
       "</table>\n",
       "<p>104 rows × 4 columns</p>\n",
       "</div>"
      ],
      "text/plain": [
       "               Newspaper   Identifier      Date  \\\n",
       "0      Vossische Zeitung  SNP27112366  19180101   \n",
       "1      Vossische Zeitung  SNP27112366  19180108   \n",
       "2      Vossische Zeitung  SNP27112366  19180115   \n",
       "3      Vossische Zeitung  SNP27112366  19180122   \n",
       "4      Vossische Zeitung  SNP27112366  19180129   \n",
       "..                   ...          ...       ...   \n",
       "99   Berliner Morgenpost  SNP2719372X  19181203   \n",
       "100  Berliner Morgenpost  SNP2719372X  19181210   \n",
       "101  Berliner Morgenpost  SNP2719372X  19181217   \n",
       "102  Berliner Morgenpost  SNP2719372X  19181224   \n",
       "103  Berliner Morgenpost  SNP2719372X  19181232   \n",
       "\n",
       "                                                  Link  \n",
       "0    https://content.staatsbibliothek-berlin.de/zef...  \n",
       "1    https://content.staatsbibliothek-berlin.de/zef...  \n",
       "2    https://content.staatsbibliothek-berlin.de/zef...  \n",
       "3    https://content.staatsbibliothek-berlin.de/zef...  \n",
       "4    https://content.staatsbibliothek-berlin.de/zef...  \n",
       "..                                                 ...  \n",
       "99   https://content.staatsbibliothek-berlin.de/zef...  \n",
       "100  https://content.staatsbibliothek-berlin.de/zef...  \n",
       "101  https://content.staatsbibliothek-berlin.de/zef...  \n",
       "102  https://content.staatsbibliothek-berlin.de/zef...  \n",
       "103  https://content.staatsbibliothek-berlin.de/zef...  \n",
       "\n",
       "[104 rows x 4 columns]"
      ]
     },
     "execution_count": 99,
     "metadata": {},
     "output_type": "execute_result"
    }
   ],
   "source": [
    "metadata_df"
   ]
  },
  {
   "cell_type": "code",
   "execution_count": 57,
   "id": "b4a5ea02",
   "metadata": {},
   "outputs": [
    {
     "data": {
      "text/html": [
       "<div>\n",
       "<style scoped>\n",
       "    .dataframe tbody tr th:only-of-type {\n",
       "        vertical-align: middle;\n",
       "    }\n",
       "\n",
       "    .dataframe tbody tr th {\n",
       "        vertical-align: top;\n",
       "    }\n",
       "\n",
       "    .dataframe thead th {\n",
       "        text-align: right;\n",
       "    }\n",
       "</style>\n",
       "<table border=\"1\" class=\"dataframe\">\n",
       "  <thead>\n",
       "    <tr style=\"text-align: right;\">\n",
       "      <th></th>\n",
       "      <th>Filename</th>\n",
       "      <th>Lemma_Count</th>\n",
       "      <th>Lemma_Count_Unique</th>\n",
       "      <th>Sentence_Count</th>\n",
       "      <th>Sentence_Length_Avg</th>\n",
       "    </tr>\n",
       "  </thead>\n",
       "  <tbody>\n",
       "    <tr>\n",
       "      <th>0</th>\n",
       "      <td>SNP2719372X-19180827-0-0-0-0.txt</td>\n",
       "      <td>19127</td>\n",
       "      <td>6784</td>\n",
       "      <td>1407</td>\n",
       "      <td>13.585227</td>\n",
       "    </tr>\n",
       "    <tr>\n",
       "      <th>1</th>\n",
       "      <td>SNP27112366-19180604-0-0-0-0.txt</td>\n",
       "      <td>48260</td>\n",
       "      <td>14664</td>\n",
       "      <td>3535</td>\n",
       "      <td>13.648473</td>\n",
       "    </tr>\n",
       "    <tr>\n",
       "      <th>2</th>\n",
       "      <td>SNP27112366-19180716-0-0-0-0.txt</td>\n",
       "      <td>42060</td>\n",
       "      <td>12277</td>\n",
       "      <td>3320</td>\n",
       "      <td>12.665161</td>\n",
       "    </tr>\n",
       "    <tr>\n",
       "      <th>3</th>\n",
       "      <td>SNP27112366-19180618-0-0-0-0.txt</td>\n",
       "      <td>45297</td>\n",
       "      <td>14035</td>\n",
       "      <td>3068</td>\n",
       "      <td>14.759857</td>\n",
       "    </tr>\n",
       "    <tr>\n",
       "      <th>4</th>\n",
       "      <td>SNP27112366-19180101-0-0-0-0.txt</td>\n",
       "      <td>49668</td>\n",
       "      <td>14696</td>\n",
       "      <td>4332</td>\n",
       "      <td>11.462959</td>\n",
       "    </tr>\n",
       "    <tr>\n",
       "      <th>...</th>\n",
       "      <td>...</td>\n",
       "      <td>...</td>\n",
       "      <td>...</td>\n",
       "      <td>...</td>\n",
       "      <td>...</td>\n",
       "    </tr>\n",
       "    <tr>\n",
       "      <th>74</th>\n",
       "      <td>SNP2719372X-19180716-0-0-0-0.txt</td>\n",
       "      <td>24158</td>\n",
       "      <td>8223</td>\n",
       "      <td>1822</td>\n",
       "      <td>13.252331</td>\n",
       "    </tr>\n",
       "    <tr>\n",
       "      <th>75</th>\n",
       "      <td>SNP27112366-19180827-0-0-0-0.txt</td>\n",
       "      <td>37139</td>\n",
       "      <td>11726</td>\n",
       "      <td>2932</td>\n",
       "      <td>12.662803</td>\n",
       "    </tr>\n",
       "    <tr>\n",
       "      <th>76</th>\n",
       "      <td>SNP2719372X-19180820-0-0-0-0.txt</td>\n",
       "      <td>20086</td>\n",
       "      <td>7203</td>\n",
       "      <td>1598</td>\n",
       "      <td>12.562226</td>\n",
       "    </tr>\n",
       "    <tr>\n",
       "      <th>77</th>\n",
       "      <td>SNP27112366-19180528-0-0-0-0.txt</td>\n",
       "      <td>45784</td>\n",
       "      <td>14624</td>\n",
       "      <td>3203</td>\n",
       "      <td>14.289950</td>\n",
       "    </tr>\n",
       "    <tr>\n",
       "      <th>78</th>\n",
       "      <td>SNP27112366-19180723-0-0-0-0.txt</td>\n",
       "      <td>38898</td>\n",
       "      <td>11787</td>\n",
       "      <td>2933</td>\n",
       "      <td>13.258010</td>\n",
       "    </tr>\n",
       "  </tbody>\n",
       "</table>\n",
       "<p>79 rows × 5 columns</p>\n",
       "</div>"
      ],
      "text/plain": [
       "                            Filename  Lemma_Count  Lemma_Count_Unique  \\\n",
       "0   SNP2719372X-19180827-0-0-0-0.txt        19127                6784   \n",
       "1   SNP27112366-19180604-0-0-0-0.txt        48260               14664   \n",
       "2   SNP27112366-19180716-0-0-0-0.txt        42060               12277   \n",
       "3   SNP27112366-19180618-0-0-0-0.txt        45297               14035   \n",
       "4   SNP27112366-19180101-0-0-0-0.txt        49668               14696   \n",
       "..                               ...          ...                 ...   \n",
       "74  SNP2719372X-19180716-0-0-0-0.txt        24158                8223   \n",
       "75  SNP27112366-19180827-0-0-0-0.txt        37139               11726   \n",
       "76  SNP2719372X-19180820-0-0-0-0.txt        20086                7203   \n",
       "77  SNP27112366-19180528-0-0-0-0.txt        45784               14624   \n",
       "78  SNP27112366-19180723-0-0-0-0.txt        38898               11787   \n",
       "\n",
       "    Sentence_Count  Sentence_Length_Avg  \n",
       "0             1407            13.585227  \n",
       "1             3535            13.648473  \n",
       "2             3320            12.665161  \n",
       "3             3068            14.759857  \n",
       "4             4332            11.462959  \n",
       "..             ...                  ...  \n",
       "74            1822            13.252331  \n",
       "75            2932            12.662803  \n",
       "76            1598            12.562226  \n",
       "77            3203            14.289950  \n",
       "78            2933            13.258010  \n",
       "\n",
       "[79 rows x 5 columns]"
      ]
     },
     "execution_count": 57,
     "metadata": {},
     "output_type": "execute_result"
    }
   ],
   "source": [
    "metadata_to_extend"
   ]
  },
  {
   "cell_type": "code",
   "execution_count": 103,
   "id": "b0d3ba49",
   "metadata": {},
   "outputs": [],
   "source": [
    "metadata_df['Filename'] = metadata_df['Identifier'] + '-' + metadata_df['Date'].astype(str) + '-0-0-0-0.txt' "
   ]
  },
  {
   "cell_type": "code",
   "execution_count": 104,
   "id": "4aef0265",
   "metadata": {},
   "outputs": [],
   "source": [
    "metadata_extendend_df = pd.merge(metadata_df, metadata_to_extend, on=\"Filename\")"
   ]
  },
  {
   "cell_type": "markdown",
   "id": "6402923a",
   "metadata": {},
   "source": [
    "## 5. Ergebnisse speichern "
   ]
  },
  {
   "cell_type": "markdown",
   "id": "5da36fae",
   "metadata": {},
   "source": [
    "### 5.1 Annotiertes Korpus speichern"
   ]
  },
  {
   "cell_type": "code",
   "execution_count": 105,
   "id": "b3041d07",
   "metadata": {},
   "outputs": [],
   "source": [
    "result_dir = Path(r\"../data/conll\")"
   ]
  },
  {
   "cell_type": "code",
   "execution_count": 106,
   "id": "d3cc1fab",
   "metadata": {},
   "outputs": [],
   "source": [
    "for filepath, annotated_text in corpus_annotated.items():\n",
    "    filepath = Path(filepath)\n",
    "    output_path = result_dir / filepath.with_suffix(\".conll\")\n",
    "    annotated_text.to_csv(output_path, sep='\\t') # , index=False"
   ]
  },
  {
   "cell_type": "markdown",
   "id": "a22e66e6",
   "metadata": {},
   "source": [
    "### 5.2 Erweiterte Metadaten speichern  "
   ]
  },
  {
   "cell_type": "code",
   "execution_count": null,
   "id": "9bae891b",
   "metadata": {},
   "outputs": [],
   "source": [
    "metadata_extended_filename = Path(r\"MVP-Test-Korpus_Metadata-v02.csv\")\n",
    "metadata_extendend_df.to_csv(metadata_dir / metadata_extended_filename, index=False)"
   ]
  },
  {
   "cell_type": "code",
   "execution_count": 153,
   "id": "85cf2560",
   "metadata": {},
   "outputs": [
    {
     "data": {
      "text/plain": [
       "38899"
      ]
     },
     "execution_count": 153,
     "metadata": {},
     "output_type": "execute_result"
    }
   ],
   "source": [
    "annotated_text.shape[0]"
   ]
  },
  {
   "cell_type": "code",
   "execution_count": 133,
   "id": "fbc79dad",
   "metadata": {},
   "outputs": [
    {
     "data": {
      "text/plain": [
       "Index(['Token', 'Lemma', 'PoS', 'Sentence_idx'], dtype='object')"
      ]
     },
     "execution_count": 133,
     "metadata": {},
     "output_type": "execute_result"
    }
   ],
   "source": [
    "list(corpus_annotated.values())[0].columns"
   ]
  },
  {
   "cell_type": "markdown",
   "id": "f294624c",
   "metadata": {},
   "source": [
    "### Search and plot frequency"
   ]
  },
  {
   "cell_type": "code",
   "execution_count": 142,
   "id": "9056047b",
   "metadata": {},
   "outputs": [],
   "source": [
    "import re"
   ]
  },
  {
   "cell_type": "code",
   "execution_count": 169,
   "id": "464018c7",
   "metadata": {},
   "outputs": [],
   "source": [
    "class WordSearchEngine():\n",
    "    \n",
    "    def __init__(self, corpus_annotated):\n",
    "        self.search_data = self.prepare_index_dataframe_for_search(corpus_annotated)\n",
    "    \n",
    "    def prepare_index_dataframe_for_search(self, corpus_annotated):\n",
    "        #columns = list(corpus_annotated.values())[0].columns\n",
    "        #self.full_df = pd.DataFrame(columns = columns)\n",
    "        for filename, annotated_text in corpus_annotated.items():\n",
    "            year, month, day = self.get_date_fname(filename)\n",
    "            annotated_text['month'] = month\n",
    "        self.full_df = pd.concat(corpus_annotated.values())\n",
    "        print(f'Searching in a corpus of {self.full_df.shape[0]} word occurences')\n",
    "        \n",
    "    def get_date_fname(self, filename):\n",
    "        date_pattern = re.search(r'(19\\d\\d)(\\d\\d)(\\d\\d)-0-0-0-0', filename)\n",
    "        year = date_pattern.group(1)\n",
    "        month = f'{year}-{date_pattern.group(2)}'\n",
    "        day =  f'{month}-{date_pattern.group(3)}'\n",
    "        return year, month, day    \n",
    "        \n",
    "    def search_and_plot(self):\n",
    "        search_term = input('Insert a word to search: ')\n",
    "        result = self.full_df.query(f'Lemma==\"{search_term}\"')\n",
    "        \n",
    "        \n",
    "        #result = result.groupby('month').count()\n",
    "        #print(result)\n",
    "        \n",
    "        result.groupby('month').count().Lemma.plot();\n",
    "        "
   ]
  },
  {
   "cell_type": "code",
   "execution_count": 170,
   "id": "31212e6a",
   "metadata": {},
   "outputs": [
    {
     "name": "stdout",
     "output_type": "stream",
     "text": [
      "Searching in a corpus of 3008370 word occurences\n"
     ]
    }
   ],
   "source": [
    "search = WordSearchEngine(corpus_annotated)"
   ]
  },
  {
   "cell_type": "code",
   "execution_count": 171,
   "id": "f4e2973d",
   "metadata": {},
   "outputs": [
    {
     "name": "stdout",
     "output_type": "stream",
     "text": [
      "Insert a word to search: Grippe\n"
     ]
    },
    {
     "data": {
      "image/png": "[encoded data removed]",
      "text/plain": [
       "<Figure size 432x288 with 1 Axes>"
      ]
     },
     "metadata": {
      "needs_background": "light"
     },
     "output_type": "display_data"
    }
   ],
   "source": [
    "search.search_and_plot()"
   ]
  },
  {
   "cell_type": "code",
   "execution_count": null,
   "id": "849e52be",
   "metadata": {},
   "outputs": [],
   "source": []
  }
 ],
 "metadata": {
  "kernelspec": {
   "display_name": "Python 3 (ipykernel)",
   "language": "python",
   "name": "python3"
  },
  "language_info": {
   "codemirror_mode": {
    "name": "ipython",
    "version": 3
   },
   "file_extension": ".py",
   "mimetype": "text/x-python",
   "name": "python",
   "nbconvert_exporter": "python",
   "pygments_lexer": "ipython3",
   "version": "3.9.13"
  }
 },
 "nbformat": 4,
 "nbformat_minor": 5
}
