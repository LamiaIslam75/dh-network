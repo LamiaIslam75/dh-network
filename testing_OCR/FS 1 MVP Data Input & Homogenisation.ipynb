{
 "cells": [
  {
   "cell_type": "markdown",
   "id": "1d59fe07",
   "metadata": {},
   "source": [
    "# Data Input and Homogenisation\n",
    "\n",
    "## 1. Types of input data for text corpora\n",
    "\n",
    "Textual data might come in different forms. \n",
    "\n",
    "1. It could be **plain text**:\n",
    "\n",
    "```\n",
    "Die Grippe wütet weiter\n",
    "Zunahme der schweren Fälle in Berlin. Die Zahl der Grippefälle ist in den letzten beiden Tagen auch in Groß-Berlin noch deutlich gestiegen. Die Warenhäuser und sonstigen Geschäfte, die Kriegs- und die privaten Betriebe klagen, dass übermäßig viele Angestellte krank melden müssen, und auch bei der Post und bei der Straßenbahn ist die Zahl der Grippekranken bedeutend gestiegen.\n",
    "```\n",
    "\n",
    "2. It could be **images** (pdf, jpg, etc):\n",
    "\n",
    "<img src=\"grippe1.png\" width=700>\n",
    "\n",
    "(source: Berliner Morgenpost, October 15, 1918)\n",
    "\n",
    "3. It could be some **structured markup** (XML/HTML):\n",
    "\n",
    "```\n",
    "<text>\n",
    "    <head>\n",
    "        Die Grippe wütet weiter\n",
    "    </head>\n",
    "    <p>\n",
    "        <s>Zunahme der schweren Fälle in Berlin.</s> \n",
    "        <s>Die Zahl der Grippefälle ist in den letzten beiden Tagen auch in Groß-Berlin noch deutlich gestiegen.</s>\n",
    "        <s>Die Warenhäuser und sonstigen Geschäfte, die Kriegs- und die privaten Betriebe klagen, dass übermäßig viele Angestellte krank melden müssen, und auch bei der Post und bei der Straßenbahn ist die Zahl der Grippekranken bedeutend gestiegen.</s>\n",
    "    </p>\n",
    "</text>\n",
    "```"
   ]
  },
  {
   "cell_type": "markdown",
   "id": "b96fc0f5",
   "metadata": {},
   "source": [
    "#### We have to be able to use all these formats and homogenise different sources into a unified corpus "
   ]
  },
  {
   "cell_type": "markdown",
   "id": "a6837435",
   "metadata": {},
   "source": [
    "## 2.  images into digial text. OCR\n",
    "\n",
    "To process images into digital text we need an **Optical Character Recognition (OCR)** tool. There are some commercial ones (like FineReader), we'll use an open & free tool in Python. "
   ]
  },
  {
   "cell_type": "code",
   "execution_count": null,
   "id": "3af423bb",
   "metadata": {},
   "outputs": [],
   "source": [
    "#!pip install pytesseract\n",
    "#!pip install pillow"
   ]
  },
  {
   "cell_type": "code",
   "execution_count": 3,
   "id": "8a636708",
   "metadata": {},
   "outputs": [],
   "source": [
    "import pytesseract"
   ]
  },
  {
   "cell_type": "code",
   "execution_count": 4,
   "id": "273defc6",
   "metadata": {},
   "outputs": [],
   "source": [
    "from PIL import Image"
   ]
  },
  {
   "cell_type": "markdown",
   "id": "bf9efa76",
   "metadata": {},
   "source": [
    "### 2.1. Evaluate OCR engine quality\n",
    "\n",
    "Sample image part for evaluation(source: [Deutsche Zeitung, Ausgaben am Montag, 23.12.1918](https://zefys.staatsbibliothek-berlin.de/kalender/auswahl/date/1918-12-23/30744015/)):\n",
    "![sample.jpg](sample.jpg)"
   ]
  },
  {
   "cell_type": "markdown",
   "id": "b73d817e",
   "metadata": {},
   "source": [
    "OCR it:"
   ]
  },
  {
   "cell_type": "code",
   "execution_count": 5,
   "id": "84c9fd39",
   "metadata": {},
   "outputs": [],
   "source": [
    "ocr_output = pytesseract.image_to_string(Image.open('sample.jpg'), lang='frk')  # using German fraktur OCR model"
   ]
  },
  {
   "cell_type": "code",
   "execution_count": 6,
   "id": "c5ca0449",
   "metadata": {},
   "outputs": [
    {
     "name": "stdout",
     "output_type": "stream",
     "text": [
      "Die Lage anfdemKohlenmarkte gibt zu “en ſhlimm-\n",
      "ſten Befürc<tungen Anlaß. Für Sachſen fehlten im Nov»mber\n",
      "30 000 Wagen zu je 10 Tonnen und für Tezembex wird mit no<\n",
      "größeren Ausfällen gere<net werden. E3 iſt mit einem völligen\n",
      "Stillſtand der Induſtrie innerhalb vierzehn Tagen zu red<hnen,\n",
      "wenn nicht eine erhebliche Steigerung der Belenſ<aften der Kot:en-\n",
      "bergwerke oder ihrer Zah! geiingt. Weiter ſteht eine weſentliche\n",
      "Erhöhung der Kohlenpreije bevor.\n",
      "\n"
     ]
    }
   ],
   "source": [
    "print(ocr_output)"
   ]
  },
  {
   "cell_type": "markdown",
   "id": "1328b4ad",
   "metadata": {},
   "source": [
    "#### 2.1.1 Manually create  the 'ground truth' to evaluate against"
   ]
  },
  {
   "cell_type": "code",
   "execution_count": 7,
   "id": "55a68c90",
   "metadata": {},
   "outputs": [
    {
     "name": "stdout",
     "output_type": "stream",
     "text": [
      "Please insert corrected string: Die Lage an dem Kohlenmarkte gibt zu den ſhlimmſten Befürchtungen Anlaß. Für Sachſen fehlten im November 30 000 Wagen zu je 10 Tonnen und für Dezember wird mit noch größeren Ausfällen gerechnet werden. Es iſt mit einem völligen Stillſtand der Induſtrie innerhalb vierzehn Tagen zu rechnen, wenn nicht eine erhebliche Steigerung der Belenſchaften der Kohlenbergwerke oder ihrer Zahl gelingt. Weiter ſteht eine weſentliche Erhöhung der Kohlenpreſie bevor.\n"
     ]
    }
   ],
   "source": [
    "ground_truth = input('Please insert corrected string: ')"
   ]
  },
  {
   "cell_type": "code",
   "execution_count": 8,
   "id": "1c35c218",
   "metadata": {},
   "outputs": [
    {
     "name": "stdout",
     "output_type": "stream",
     "text": [
      "Die Lage an dem Kohlenmarkte gibt zu den ſhlimmſten Befürchtungen Anlaß. Für Sachſen fehlten im November 30 000 Wagen zu je 10 Tonnen und für Dezember wird mit noch größeren Ausfällen gerechnet werden. Es iſt mit einem völligen Stillſtand der Induſtrie innerhalb vierzehn Tagen zu rechnen, wenn nicht eine erhebliche Steigerung der Belenſchaften der Kohlenbergwerke oder ihrer Zahl gelingt. Weiter ſteht eine weſentliche Erhöhung der Kohlenpreſie bevor.\n"
     ]
    }
   ],
   "source": [
    "print(ground_truth)"
   ]
  },
  {
   "cell_type": "markdown",
   "id": "dc90f22d",
   "metadata": {},
   "source": [
    "#### 2.1.2 Measure OCR precision, recall and F-measure"
   ]
  },
  {
   "cell_type": "code",
   "execution_count": 9,
   "id": "064eddee",
   "metadata": {},
   "outputs": [],
   "source": [
    "import Levenshtein as lev"
   ]
  },
  {
   "cell_type": "code",
   "execution_count": 10,
   "id": "b306d511",
   "metadata": {},
   "outputs": [],
   "source": [
    "def measure_quality(ocr_output, ground_truth):\n",
    "    \"\"\"\n",
    "    Calculates precision, recall, and F1-score\n",
    "    using the Levenshtein distance to align text from OCR with the ground truth data.\n",
    "\n",
    "    :param ocr_output: A string containing the raw OCR results.\n",
    "    :param ground_truth: A string containing the verified ground truth text.\n",
    "    \"\"\"\n",
    "\n",
    "    matching_parts = lev.matching_blocks(lev.editops(ocr_output, ground_truth), ocr_output, ground_truth)\n",
    "    true_pos = len(''.join([ocr_output[x[0]:x[0]+x[2]] for x in matching_parts]))\n",
    "\n",
    "    precision = true_pos / len(ground_truth)\n",
    "    recall = true_pos / len(ocr_output)\n",
    "    f_score = 2 * ((precision * recall) / (precision + recall))\n",
    "\n",
    "    return precision, recall, f_score"
   ]
  },
  {
   "cell_type": "code",
   "execution_count": 11,
   "id": "03132c10",
   "metadata": {},
   "outputs": [],
   "source": [
    "precision, recall, f_score = measure_quality(ocr_output, ground_truth)"
   ]
  },
  {
   "cell_type": "code",
   "execution_count": 12,
   "id": "46857ba9",
   "metadata": {},
   "outputs": [
    {
     "name": "stdout",
     "output_type": "stream",
     "text": [
      "Precision: 0.9448\n",
      "Recall: 0.9407\n",
      "F1-score: 0.9427\n"
     ]
    }
   ],
   "source": [
    "print(f'Precision: {round(precision, 4)}\\nRecall: {round(recall, 4)}\\nF1-score: {round(f_score, 4)}')"
   ]
  },
  {
   "cell_type": "markdown",
   "id": "8d500634",
   "metadata": {},
   "source": [
    "### 2.2 Process the whole corpus of PDF-s with the same OCR engine"
   ]
  },
  {
   "cell_type": "code",
   "execution_count": 13,
   "id": "74682bdb",
   "metadata": {},
   "outputs": [],
   "source": [
    "from tqdm import tqdm\n",
    "from pdf2image import convert_from_path"
   ]
  },
  {
   "cell_type": "code",
   "execution_count": 14,
   "id": "ea5ae2e3",
   "metadata": {},
   "outputs": [],
   "source": [
    "pathpdf = '../../PDF'"
   ]
  },
  {
   "cell_type": "code",
   "execution_count": null,
   "id": "e3515b11",
   "metadata": {},
   "outputs": [],
   "source": [
    "for filename in tqdm(os.listdir(pathpdf)):\n",
    "    if '.pdf' in filename:\n",
    "        thispath = os.path.join(pathpdf, filename)\n",
    "        converted_pdf = convert_from_path(thispath, use_cropbox=True)\n",
    "        with open(thispath.replace('.pdf', '.txt'), 'w') as output_txt:\n",
    "            for image in converted_pdf:\n",
    "                recognized = pytesseract.image_to_string(image, \n",
    "                                                         lang='frk') # fraktur OCR model\n",
    "                output_txt.write(recognized)"
   ]
  },
  {
   "cell_type": "markdown",
   "id": "a4c443a0",
   "metadata": {},
   "source": [
    "#### After running this we have all our PDF-s in plain txt form"
   ]
  },
  {
   "cell_type": "markdown",
   "id": "6969711c",
   "metadata": {},
   "source": [
    "## 3.  getting digial text from the structured markup (XML)"
   ]
  },
  {
   "cell_type": "code",
   "execution_count": null,
   "id": "2e05f566",
   "metadata": {},
   "outputs": [],
   "source": []
  }
 ],
 "metadata": {
  "kernelspec": {
   "display_name": "Python 3 (ipykernel)",
   "language": "python",
   "name": "python3"
  },
  "language_info": {
   "codemirror_mode": {
    "name": "ipython",
    "version": 3
   },
   "file_extension": ".py",
   "mimetype": "text/x-python",
   "name": "python",
   "nbconvert_exporter": "python",
   "pygments_lexer": "ipython3",
   "version": "3.9.13"
  }
 },
 "nbformat": 4,
 "nbformat_minor": 5
}
