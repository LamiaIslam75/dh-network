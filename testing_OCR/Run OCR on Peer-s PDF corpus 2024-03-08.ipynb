{
 "cells": [
  {
   "cell_type": "markdown",
   "id": "467be829",
   "metadata": {},
   "source": [
    "## 1. PyTesseract"
   ]
  },
  {
   "cell_type": "code",
   "execution_count": null,
   "id": "3af423bb",
   "metadata": {},
   "outputs": [],
   "source": [
    "#!pip install pytesseract\n",
    "#!pip install pillow"
   ]
  },
  {
   "cell_type": "code",
   "execution_count": null,
   "id": "8a636708",
   "metadata": {},
   "outputs": [],
   "source": [
    "import pytesseract"
   ]
  },
  {
   "cell_type": "code",
   "execution_count": null,
   "id": "4eb80df5",
   "metadata": {},
   "outputs": [],
   "source": [
    "from tqdm import tqdm"
   ]
  },
  {
   "cell_type": "code",
   "execution_count": null,
   "id": "273defc6",
   "metadata": {},
   "outputs": [],
   "source": [
    "from PIL import Image"
   ]
  },
  {
   "cell_type": "code",
   "execution_count": null,
   "id": "65aba5dc",
   "metadata": {},
   "outputs": [],
   "source": [
    "import os"
   ]
  },
  {
   "cell_type": "code",
   "execution_count": null,
   "id": "edd51df5",
   "metadata": {
    "scrolled": true
   },
   "outputs": [],
   "source": [
    "!pip install pdf2image"
   ]
  },
  {
   "cell_type": "code",
   "execution_count": null,
   "id": "1adc570f",
   "metadata": {},
   "outputs": [],
   "source": [
    "from pdf2image import convert_from_path"
   ]
  },
  {
   "cell_type": "markdown",
   "id": "c84f238d",
   "metadata": {},
   "source": [
    "### 1.1 Without any language specification"
   ]
  },
  {
   "cell_type": "code",
   "execution_count": null,
   "id": "5fd36f92",
   "metadata": {},
   "outputs": [],
   "source": [
    "type(Image.open('image.jpg'))"
   ]
  },
  {
   "cell_type": "code",
   "execution_count": null,
   "id": "d4301d79",
   "metadata": {},
   "outputs": [],
   "source": [
    "%%time\n",
    "recognized = pytesseract.image_to_string(Image.open('image.jpg'))"
   ]
  },
  {
   "cell_type": "code",
   "execution_count": null,
   "id": "1d4506b8",
   "metadata": {},
   "outputs": [],
   "source": [
    "print(recognized)"
   ]
  },
  {
   "cell_type": "markdown",
   "id": "fbe31258",
   "metadata": {},
   "source": [
    "#### Result: awful 👎👎👎"
   ]
  },
  {
   "cell_type": "markdown",
   "id": "bf9efa76",
   "metadata": {},
   "source": [
    "### 1.2 Setting language to 'German fraktur'"
   ]
  },
  {
   "cell_type": "code",
   "execution_count": null,
   "id": "84c9fd39",
   "metadata": {},
   "outputs": [],
   "source": [
    "%%time\n",
    "recognized = pytesseract.image_to_string(Image.open('image.jpg'), lang='frk')"
   ]
  },
  {
   "cell_type": "code",
   "execution_count": null,
   "id": "c5ca0449",
   "metadata": {},
   "outputs": [],
   "source": [
    "print(recognized)"
   ]
  },
  {
   "cell_type": "code",
   "execution_count": null,
   "id": "a3cb7d07",
   "metadata": {},
   "outputs": [],
   "source": [
    "Image.open('image.jpg')"
   ]
  },
  {
   "cell_type": "markdown",
   "id": "90ee13c4",
   "metadata": {},
   "source": [
    "#### Now process PDFs"
   ]
  },
  {
   "cell_type": "code",
   "execution_count": null,
   "id": "e1480590",
   "metadata": {},
   "outputs": [],
   "source": [
    "pathpdf = '../../PDF'"
   ]
  },
  {
   "cell_type": "code",
   "execution_count": null,
   "id": "fcf0dc72",
   "metadata": {},
   "outputs": [],
   "source": [
    "!ls ../../PDF"
   ]
  },
  {
   "cell_type": "code",
   "execution_count": null,
   "id": "87d1448e",
   "metadata": {},
   "outputs": [],
   "source": [
    "samplepdf = 'SNP2719372X-19180122-0-0-0-0.pdf'"
   ]
  },
  {
   "cell_type": "code",
   "execution_count": null,
   "id": "a8b9d108",
   "metadata": {},
   "outputs": [],
   "source": [
    "converted_pdf = convert_from_path(os.path.join(pathpdf, samplepdf), \n",
    "                                  #transparent=True, grayscale = True, \n",
    "                                  use_cropbox=True)"
   ]
  },
  {
   "cell_type": "code",
   "execution_count": null,
   "id": "bf0b5e1a",
   "metadata": {},
   "outputs": [],
   "source": [
    "type(converted_pdf)"
   ]
  },
  {
   "cell_type": "code",
   "execution_count": null,
   "id": "7650f4ae",
   "metadata": {},
   "outputs": [],
   "source": [
    "len(converted_pdf)"
   ]
  },
  {
   "cell_type": "code",
   "execution_count": null,
   "id": "2c65bc35",
   "metadata": {},
   "outputs": [],
   "source": [
    "type(converted_pdf[1])"
   ]
  },
  {
   "cell_type": "code",
   "execution_count": null,
   "id": "98223dc6",
   "metadata": {},
   "outputs": [],
   "source": [
    "sample_page = converted_pdf[1]"
   ]
  },
  {
   "cell_type": "markdown",
   "id": "4453e792",
   "metadata": {},
   "source": [
    "show page size"
   ]
  },
  {
   "cell_type": "code",
   "execution_count": null,
   "id": "9737c218",
   "metadata": {},
   "outputs": [],
   "source": [
    "sample_page.size"
   ]
  },
  {
   "cell_type": "markdown",
   "id": "5e74143e",
   "metadata": {},
   "source": [
    "show page"
   ]
  },
  {
   "cell_type": "code",
   "execution_count": null,
   "id": "78bf80b5",
   "metadata": {},
   "outputs": [],
   "source": [
    "#sample_page.show()"
   ]
  },
  {
   "cell_type": "code",
   "execution_count": null,
   "id": "40fba980",
   "metadata": {},
   "outputs": [],
   "source": [
    "sample_page"
   ]
  },
  {
   "cell_type": "code",
   "execution_count": null,
   "id": "d7d5edd3",
   "metadata": {},
   "outputs": [],
   "source": [
    "%%time\n",
    "recognized = pytesseract.image_to_string(sample_page, lang='frk')"
   ]
  },
  {
   "cell_type": "code",
   "execution_count": null,
   "id": "ce9580dd",
   "metadata": {},
   "outputs": [],
   "source": [
    "print(recognized)"
   ]
  },
  {
   "cell_type": "markdown",
   "id": "74eeaca3",
   "metadata": {},
   "source": [
    "### Process all PDFs"
   ]
  },
  {
   "cell_type": "code",
   "execution_count": null,
   "id": "d6a89f99",
   "metadata": {},
   "outputs": [],
   "source": [
    "%%time\n",
    "for filename in tqdm(os.listdir(pathpdf)):\n",
    "    if '.pdf' in filename:\n",
    "        thispath = os.path.join(pathpdf, filename)\n",
    "        converted_pdf = convert_from_path(thispath, use_cropbox=True)\n",
    "        with open(thispath.replace('.pdf', '.txt'), 'w') as output_txt:\n",
    "            for image in converted_pdf:\n",
    "                recognized = pytesseract.image_to_string(image, \n",
    "                                                         lang='frk')\n",
    "                output_txt.write(recognized)\n",
    "                                "
   ]
  },
  {
   "cell_type": "code",
   "execution_count": null,
   "id": "24ef2a28",
   "metadata": {},
   "outputs": [],
   "source": []
  }
 ],
 "metadata": {
  "kernelspec": {
   "display_name": "Python 3 (ipykernel)",
   "language": "python",
   "name": "python3"
  },
  "language_info": {
   "codemirror_mode": {
    "name": "ipython",
    "version": 3
   },
   "file_extension": ".py",
   "mimetype": "text/x-python",
   "name": "python",
   "nbconvert_exporter": "python",
   "pygments_lexer": "ipython3",
   "version": "3.9.13"
  }
 },
 "nbformat": 4,
 "nbformat_minor": 5
}
